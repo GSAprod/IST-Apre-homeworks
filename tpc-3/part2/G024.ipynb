{
 "cells": [
  {
   "cell_type": "markdown",
   "metadata": {},
   "source": [
    "# Homework 3 (Part II)\n",
    "\n",
    "Aprendizagem 2023/2024 - LEIC @ IST \n",
    "\n",
    "Group #24\n",
    "- Daniel Nunes (Nº 103095)\n",
    "- Gonçalo Alves (Nº 103540)"
   ]
  },
  {
   "cell_type": "markdown",
   "metadata": {},
   "source": [
    "## Data importing and preparation"
   ]
  },
  {
   "cell_type": "code",
   "execution_count": 4,
   "metadata": {},
   "outputs": [
    {
     "name": "stdout",
     "output_type": "stream",
     "text": [
      "      fixed acidity  volatile acidity  citric acid  residual sugar  chlorides  \\\n",
      "0               7.4             0.700         0.00             1.9      0.076   \n",
      "1               7.8             0.880         0.00             2.6      0.098   \n",
      "2               7.8             0.760         0.04             2.3      0.092   \n",
      "3              11.2             0.280         0.56             1.9      0.075   \n",
      "4               7.4             0.700         0.00             1.9      0.076   \n",
      "...             ...               ...          ...             ...        ...   \n",
      "1594            6.2             0.600         0.08             2.0      0.090   \n",
      "1595            5.9             0.550         0.10             2.2      0.062   \n",
      "1596            6.3             0.510         0.13             2.3      0.076   \n",
      "1597            5.9             0.645         0.12             2.0      0.075   \n",
      "1598            6.0             0.310         0.47             3.6      0.067   \n",
      "\n",
      "      free sulfur dioxide  total sulfur dioxide  density    pH  sulphates  \\\n",
      "0                    11.0                  34.0  0.99780  3.51       0.56   \n",
      "1                    25.0                  67.0  0.99680  3.20       0.68   \n",
      "2                    15.0                  54.0  0.99700  3.26       0.65   \n",
      "3                    17.0                  60.0  0.99800  3.16       0.58   \n",
      "4                    11.0                  34.0  0.99780  3.51       0.56   \n",
      "...                   ...                   ...      ...   ...        ...   \n",
      "1594                 32.0                  44.0  0.99490  3.45       0.58   \n",
      "1595                 39.0                  51.0  0.99512  3.52       0.76   \n",
      "1596                 29.0                  40.0  0.99574  3.42       0.75   \n",
      "1597                 32.0                  44.0  0.99547  3.57       0.71   \n",
      "1598                 18.0                  42.0  0.99549  3.39       0.66   \n",
      "\n",
      "      alcohol  quality  \n",
      "0         9.4        5  \n",
      "1         9.8        5  \n",
      "2         9.8        5  \n",
      "3         9.8        6  \n",
      "4         9.4        5  \n",
      "...       ...      ...  \n",
      "1594     10.5        5  \n",
      "1595     11.2        6  \n",
      "1596     11.0        6  \n",
      "1597     10.2        5  \n",
      "1598     11.0        6  \n",
      "\n",
      "[1599 rows x 12 columns]\n"
     ]
    }
   ],
   "source": [
    "\n",
    "import pandas as pd\n",
    "\n",
    "# Load the wine quality dataset from the CSV file\n",
    "data = pd.read_csv(\"winequality-red.csv\", delimiter=';')\n",
    "\n",
    "# Extract features (X) and the target variable (y)\n",
    "X = data.drop(\"quality\", axis=1)\n",
    "y = data[\"quality\"]\n",
    "\n",
    "print(data)\n"
   ]
  },
  {
   "cell_type": "markdown",
   "metadata": {},
   "source": [
    "Using a 80-20 training-test split with a fixed seed (random_state=0)"
   ]
  },
  {
   "cell_type": "code",
   "execution_count": 12,
   "metadata": {},
   "outputs": [],
   "source": [
    "from sklearn.model_selection import train_test_split\n",
    "\n",
    "random_seeds = range(1, 10) \n",
    "X_train, X_temp, y_train, y_temp = train_test_split(X, y, test_size=0.2, random_state=0)\n",
    "X_val, X_test, y_val, y_test = train_test_split(X_temp, y_temp, test_size=0.5, random_state=0)\n",
    "\n"
   ]
  },
  {
   "cell_type": "markdown",
   "metadata": {},
   "source": [
    "## Exercise 1\n",
    "\n",
    "Learn a MLP regressor with 2 hidden layers of size 10, rectifier linear unit activation \n",
    "on all nodes, and early stopping with 20% of training data set aside for validation. All \n",
    "remaining parameters (e.g., loss, batch size, regularization term, solver) should be set as \n",
    "default. Plot the distribution of the residues (in absolute value) using a histogram."
   ]
  },
  {
   "cell_type": "code",
   "execution_count": 13,
   "metadata": {},
   "outputs": [
    {
     "name": "stderr",
     "output_type": "stream",
     "text": [
      "/home/danimnunes/.local/lib/python3.10/site-packages/sklearn/neural_network/_multilayer_perceptron.py:691: ConvergenceWarning: Stochastic Optimizer: Maximum iterations (200) reached and the optimization hasn't converged yet.\n",
      "  warnings.warn(\n",
      "/home/danimnunes/.local/lib/python3.10/site-packages/sklearn/neural_network/_multilayer_perceptron.py:691: ConvergenceWarning: Stochastic Optimizer: Maximum iterations (200) reached and the optimization hasn't converged yet.\n",
      "  warnings.warn(\n",
      "/home/danimnunes/.local/lib/python3.10/site-packages/sklearn/neural_network/_multilayer_perceptron.py:691: ConvergenceWarning: Stochastic Optimizer: Maximum iterations (200) reached and the optimization hasn't converged yet.\n",
      "  warnings.warn(\n",
      "/home/danimnunes/.local/lib/python3.10/site-packages/sklearn/neural_network/_multilayer_perceptron.py:691: ConvergenceWarning: Stochastic Optimizer: Maximum iterations (200) reached and the optimization hasn't converged yet.\n",
      "  warnings.warn(\n",
      "/home/danimnunes/.local/lib/python3.10/site-packages/sklearn/neural_network/_multilayer_perceptron.py:691: ConvergenceWarning: Stochastic Optimizer: Maximum iterations (200) reached and the optimization hasn't converged yet.\n",
      "  warnings.warn(\n",
      "/home/danimnunes/.local/lib/python3.10/site-packages/sklearn/neural_network/_multilayer_perceptron.py:691: ConvergenceWarning: Stochastic Optimizer: Maximum iterations (200) reached and the optimization hasn't converged yet.\n",
      "  warnings.warn(\n"
     ]
    },
    {
     "data": {
      "image/png": "[encoded data removed]",
      "text/plain": [
       "<Figure size 640x480 with 1 Axes>"
      ]
     },
     "metadata": {},
     "output_type": "display_data"
    }
   ],
   "source": [
    "import numpy as np\n",
    "import matplotlib.pyplot as plt\n",
    "from sklearn.neural_network import MLPRegressor\n",
    "\n",
    "\n",
    "\n",
    "absolute_residuals = []\n",
    "\n",
    "for random_seed in random_seeds:\n",
    "\n",
    "\n",
    "    # Define MLPRegressor with 2 hidden layers of size 10, ReLU activation, and early stopping\n",
    "    mlp = MLPRegressor(hidden_layer_sizes=(10, 10), activation='relu', random_state=random_seed, early_stopping=True, validation_fraction=0.2)\n",
    "\n",
    "    # Train the model\n",
    "    mlp.fit(X_train, y_train)\n",
    "\n",
    "    # Predict on the test data\n",
    "    y_pred = mlp.predict(X_test)\n",
    "\n",
    "    # Calculate the absolute residuals for this run\n",
    "    residuals = np.abs(y_test - y_pred)\n",
    "    absolute_residuals.extend(residuals)\n",
    "\n",
    "# Plot the distribution of absolute residuals using a histogram\n",
    "plt.hist(absolute_residuals, bins=20, edgecolor='k')\n",
    "plt.xlabel('Absolute Residuals')\n",
    "plt.ylabel('Frequency')\n",
    "plt.title('Distribution of Absolute Residuals')\n",
    "plt.show()\n",
    "\n"
   ]
  },
  {
   "cell_type": "markdown",
   "metadata": {},
   "source": [
    "**Our answer**\n",
    "\n"
   ]
  },
  {
   "cell_type": "markdown",
   "metadata": {},
   "source": [
    "## Exercise 2\n",
    "\n",
    "Since we are in the presence of a integer regression task, a recommended trick is to \n",
    "round and bound estimates. Assess the impact of these operations on the MAE of the MLP \n",
    "learnt in previous question."
   ]
  },
  {
   "cell_type": "code",
   "execution_count": 36,
   "metadata": {},
   "outputs": [
    {
     "name": "stdout",
     "output_type": "stream",
     "text": [
      "Original MAE: 0.5071774918627351\n",
      "MAE for Rounded and Bounded Predictions: 0.45\n"
     ]
    },
    {
     "data": {
      "image/png": "[encoded data removed]",
      "text/plain": [
       "<Figure size 640x480 with 1 Axes>"
      ]
     },
     "metadata": {},
     "output_type": "display_data"
    }
   ],
   "source": [
    "import numpy as np\n",
    "import matplotlib.pyplot as plt\n",
    "from sklearn.metrics import mean_absolute_error\n",
    "\n",
    "\n",
    "\n",
    "# Calculate the original MAE for the unrounded predictions\n",
    "mae_original = mean_absolute_error(y_test, y_pred)\n",
    "\n",
    "# Function to round and bound estimates\n",
    "def round_and_bound(predictions, lower_bound, upper_bound):\n",
    "    return np.clip(np.round(predictions), lower_bound, upper_bound)\n",
    "\n",
    "lower_bound = 1\n",
    "upper_bound = 10\n",
    "\n",
    "# Apply rounding and bounding to the predictions\n",
    "y_pred_rounded_bounded = round_and_bound(y_pred, lower_bound, upper_bound)\n",
    "\n",
    "# Calculate the MAE for the rounded and bounded predictions\n",
    "mae_rounded_bounded = mean_absolute_error(y_test, y_pred_rounded_bounded)\n",
    "\n",
    "# Print the MAE for both cases\n",
    "print(f\"Original MAE: {mae_original}\")\n",
    "print(f\"MAE for Rounded and Bounded Predictions: {mae_rounded_bounded}\")\n",
    "\n",
    "\n",
    "\n",
    "redwine_color = (128/255, 0/255, 32/255)  # RGB values should be in the range [0, 1]\n",
    "\n",
    "# Plot the distribution of rounded and bounded predictions\n",
    "plt.hist(y_pred_rounded_bounded, bins=np.arange(lower_bound, upper_bound+1), edgecolor='k', color=redwine_color)\n",
    "\n",
    "\n",
    "plt.xlabel('Wine Quality')\n",
    "plt.ylabel('Frequency')\n",
    "plt.title('Distribution of Rounded and Bounded Predictions')\n",
    "plt.grid(True, linestyle='--', alpha=0.7)\n",
    "\n",
    "plt.show()\n",
    "\n"
   ]
  },
  {
   "cell_type": "markdown",
   "metadata": {},
   "source": [
    "**Our answer**\n"
   ]
  },
  {
   "cell_type": "markdown",
   "metadata": {},
   "source": [
    "## Exercise 3\n",
    "\n",
    " Similarly assess the impact on RMSE from replacing early stopping by a well-defined \n",
    "number of iterations in {20,50,100,200} (where one iteration corresponds to a batch)."
   ]
  },
  {
   "cell_type": "code",
   "execution_count": 38,
   "metadata": {},
   "outputs": [
    {
     "name": "stdout",
     "output_type": "stream",
     "text": [
      "RMSE for 20 iterations: 39.47418228765987\n",
      "RMSE for 50 iterations: 39.30844176602476\n",
      "RMSE for 100 iterations: 38.98839568213998\n",
      "RMSE for 200 iterations: 37.96699119288048\n"
     ]
    },
    {
     "name": "stderr",
     "output_type": "stream",
     "text": [
      "/home/danimnunes/.local/lib/python3.10/site-packages/sklearn/neural_network/_multilayer_perceptron.py:691: ConvergenceWarning: Stochastic Optimizer: Maximum iterations (20) reached and the optimization hasn't converged yet.\n",
      "  warnings.warn(\n",
      "/home/danimnunes/.local/lib/python3.10/site-packages/sklearn/neural_network/_multilayer_perceptron.py:691: ConvergenceWarning: Stochastic Optimizer: Maximum iterations (50) reached and the optimization hasn't converged yet.\n",
      "  warnings.warn(\n",
      "/home/danimnunes/.local/lib/python3.10/site-packages/sklearn/neural_network/_multilayer_perceptron.py:691: ConvergenceWarning: Stochastic Optimizer: Maximum iterations (100) reached and the optimization hasn't converged yet.\n",
      "  warnings.warn(\n",
      "/home/danimnunes/.local/lib/python3.10/site-packages/sklearn/neural_network/_multilayer_perceptron.py:691: ConvergenceWarning: Stochastic Optimizer: Maximum iterations (200) reached and the optimization hasn't converged yet.\n",
      "  warnings.warn(\n"
     ]
    }
   ],
   "source": [
    "import numpy as np\n",
    "from sklearn.metrics import mean_squared_error\n",
    "from sklearn.datasets import make_regression \n",
    "from sklearn.neural_network import MLPRegressor\n",
    "from sklearn.model_selection import train_test_split\n",
    "\n",
    "# Set the random seed for reproducibility\n",
    "random_seed = 0\n",
    "\n",
    "# Create a random dataset for regression\n",
    "X, y = make_regression(n_samples=100, n_features=1, noise=0.1, random_state=random_seed)\n",
    "\n",
    "# Split the data into a training set and a test set with an 80-20 split\n",
    "X_train, X_test, y_train, y_test = train_test_split(X, y, test_size=0.2, random_state=random_seed)\n",
    "\n",
    "# Define the number of iterations to test\n",
    "iterations = [20, 50, 100, 200]\n",
    "\n",
    "# Initialize arrays to store RMSE for each case\n",
    "rmse_scores = []\n",
    "\n",
    "# Train the model with different numbers of iterations\n",
    "for num_iterations in iterations:\n",
    "    mlp = MLPRegressor(hidden_layer_sizes=(10, 10), activation='relu', random_state=random_seed, max_iter=num_iterations)\n",
    "\n",
    "    mlp.fit(X_train, y_train)\n",
    "\n",
    "    y_pred = mlp.predict(X_test)\n",
    "\n",
    "    # Calculate the RMSE for this case\n",
    "    rmse = np.sqrt(mean_squared_error(y_test, y_pred))\n",
    "    rmse_scores.append(rmse)\n",
    "\n",
    "# Print the RMSE for each case\n",
    "for i, num_iterations in enumerate(iterations):\n",
    "    print(f\"RMSE for {num_iterations} iterations: {rmse_scores[i]}\")\n"
   ]
  },
  {
   "cell_type": "markdown",
   "metadata": {},
   "source": [
    "**Our answer**\n"
   ]
  },
  {
   "cell_type": "markdown",
   "metadata": {},
   "source": [
    "## Exercise 4\n",
    "\n",
    "Critically comment the results obtained in previous question, hypothesizing at least \n",
    "one reason why early stopping favors and/or worsens performance."
   ]
  },
  {
   "cell_type": "markdown",
   "metadata": {},
   "source": [
    "The RMSE results obtained in the previous question show that as the number of training iterations increases, the RMSE generally decreases, indicating better model performance. Here's a critical comment on these results, along with a hypothesis about the impact of early stopping on model performance:\n",
    "\n",
    "    Impact of Early Stopping on Performance:\n",
    "\n",
    "        Early Stopping Favors Performance: The results demonstrate that increasing the number of training iterations (from 20 to 200) leads to a consistent reduction in RMSE. This suggests that allowing the model to train for a longer duration generally results in better predictive performance, as the model can learn more from the data and converge to a better solution.\n",
    "\n",
    "        Early Stopping Worsens Performance: On the other hand, early stopping, as indicated by the \"stopping point\" at a fixed number of iterations (e.g., 20), can potentially lead to suboptimal model performance. In this case, the model might not have sufficient time to fully converge, resulting in a less accurate predictor.\n",
    "\n",
    "    Hypothesis on Early Stopping:\n",
    "\n",
    "        Reason for Early Stopping Impact: One possible reason why early stopping can favor or worsen performance is that it depends on the specific problem and dataset. Early stopping is designed to prevent overfitting, which occurs when the model starts to learn noise in the data rather than the underlying patterns. However, in some cases, setting a small number of iterations may lead to underfitting, where the model fails to capture the true relationships in the data. Underfitting can result in suboptimal predictive performance, as seen in the initial RMSE with only 20 iterations.\n",
    "\n",
    "        Finding the Right Balance: Achieving the right balance between early stopping and allowing the model to train for a sufficient number of iterations is crucial. This balance depends on the complexity of the problem, the amount of data, and the specific characteristics of the dataset. In practice, hyperparameter tuning and cross-validation can help determine the optimal number of iterations and other settings to prevent both overfitting and underfitting.\n",
    "\n",
    "In summary, while early stopping is a useful technique to prevent overfitting and save training time, it should be applied judiciously to ensure that it doesn't hinder the model's ability to learn from the data. The optimal number of iterations may vary from one problem to another, and it's essential to experiment with different settings to find the right balance."
   ]
  }
 ],
 "metadata": {
  "kernelspec": {
   "display_name": "Python 3",
   "language": "python",
   "name": "python3"
  },
  "language_info": {
   "codemirror_mode": {
    "name": "ipython",
    "version": 3
   },
   "file_extension": ".py",
   "mimetype": "text/x-python",
   "name": "python",
   "nbconvert_exporter": "python",
   "pygments_lexer": "ipython3",
   "version": "3.10.12"
  },
  "orig_nbformat": 4
 },
 "nbformat": 4,
 "nbformat_minor": 2
}
