{
 "cells": [
  {
   "cell_type": "markdown",
   "metadata": {},
   "source": [
    "## Import data"
   ]
  },
  {
   "cell_type": "code",
   "execution_count": 1,
   "metadata": {},
   "outputs": [
    {
     "data": {
      "text/plain": [
       "array([[ 0.7, -0.3],\n",
       "       [ 0.4,  0.5],\n",
       "       [-0.2,  0.8],\n",
       "       [-0.4,  0.3]])"
      ]
     },
     "execution_count": 1,
     "metadata": {},
     "output_type": "execute_result"
    }
   ],
   "source": [
    "import numpy as np\n",
    "\n",
    "# Bivariate observations \n",
    "data = np.array([[0.7, -0.3], [0.4, 0.5], [-0.2, 0.8], [-0.4, 0.3]])\n",
    "data"
   ]
  },
  {
   "cell_type": "code",
   "execution_count": 2,
   "metadata": {},
   "outputs": [
    {
     "data": {
      "text/plain": [
       "array([[0.8],\n",
       "       [0.6],\n",
       "       [0.3],\n",
       "       [0.3]])"
      ]
     },
     "execution_count": 2,
     "metadata": {},
     "output_type": "execute_result"
    }
   ],
   "source": [
    "# Target values of bivariate observations\n",
    "output = np.array([[0.8], [0.6], [0.3], [0.3]])\n",
    "output"
   ]
  },
  {
   "cell_type": "code",
   "execution_count": 3,
   "metadata": {},
   "outputs": [
    {
     "data": {
      "text/plain": [
       "array([[ 0,  0],\n",
       "       [ 1, -1],\n",
       "       [-1,  1]])"
      ]
     },
     "execution_count": 3,
     "metadata": {},
     "output_type": "execute_result"
    }
   ],
   "source": [
    "cPoints = np.array([[0, 0], [1, -1], [-1, 1]])\n",
    "cPoints"
   ]
  },
  {
   "cell_type": "markdown",
   "metadata": {},
   "source": [
    "## Calculate matrices"
   ]
  },
  {
   "cell_type": "code",
   "execution_count": 4,
   "metadata": {},
   "outputs": [
    {
     "data": {
      "text/plain": [
       "array([[1.        , 0.74826357, 0.74826357, 0.10126646],\n",
       "       [1.        , 0.81464732, 0.27117254, 0.33121088],\n",
       "       [1.        , 0.71177032, 0.09632764, 0.71177032],\n",
       "       [1.        , 0.8824969 , 0.16121764, 0.65376979]])"
      ]
     },
     "execution_count": 4,
     "metadata": {},
     "output_type": "execute_result"
    }
   ],
   "source": [
    "xMatrix = np.empty([4,4])\n",
    "\n",
    "for i in range(0, 4):\n",
    "    xMatrix[i][0] = 1\n",
    "    \n",
    "for j in range(0, 3):\n",
    "    for i in range(0, 4):\n",
    "        xMatrix[i, j + 1] = np.exp( \\\n",
    "            -1 * np.divide( \\\n",
    "                np.square(np.linalg.norm(np.subtract(data[i], cPoints[j]))), \\\n",
    "                  2))\n",
    "        \n",
    "xMatrix"
   ]
  },
  {
   "cell_type": "code",
   "execution_count": 5,
   "metadata": {},
   "outputs": [
    {
     "data": {
      "text/plain": [
       "array([[0.1, 0. , 0. , 0. ],\n",
       "       [0. , 0.1, 0. , 0. ],\n",
       "       [0. , 0. , 0.1, 0. ],\n",
       "       [0. , 0. , 0. , 0.1]])"
      ]
     },
     "execution_count": 5,
     "metadata": {},
     "output_type": "execute_result"
    }
   ],
   "source": [
    "iMatrix = np.zeros([4,4])\n",
    "for i in range(0,4):\n",
    "    iMatrix[i, i] = 0.1\n",
    "\n",
    "iMatrix"
   ]
  },
  {
   "cell_type": "markdown",
   "metadata": {},
   "source": [
    "## Calculate Ridge"
   ]
  },
  {
   "cell_type": "code",
   "execution_count": 6,
   "metadata": {},
   "outputs": [
    {
     "data": {
      "text/plain": [
       "array([[ 4.54826202, -3.77681832, -1.86116983, -1.86155421],\n",
       "       [-3.77681832,  5.98284561, -0.88542926, -1.26432443],\n",
       "       [-1.86116983, -0.88542926,  4.33275508,  2.72155678],\n",
       "       [-1.86155421, -1.26432443,  2.72155678,  4.53204296]])"
      ]
     },
     "execution_count": 6,
     "metadata": {},
     "output_type": "execute_result"
    }
   ],
   "source": [
    "invMatrix = np.linalg.pinv(np.dot(np.transpose(xMatrix), xMatrix) + iMatrix)\n",
    "\n",
    "invMatrix"
   ]
  },
  {
   "cell_type": "code",
   "execution_count": 7,
   "metadata": {},
   "outputs": [
    {
     "data": {
      "text/plain": [
       "array([[ 0.33914267],\n",
       "       [ 0.19945264],\n",
       "       [ 0.40096085],\n",
       "       [-0.29599936]])"
      ]
     },
     "execution_count": 7,
     "metadata": {},
     "output_type": "execute_result"
    }
   ],
   "source": [
    "coefficients = np.dot(np.dot(invMatrix, np.transpose(xMatrix)), output)\n",
    "\n",
    "coefficients"
   ]
  },
  {
   "cell_type": "code",
   "execution_count": 8,
   "metadata": {},
   "outputs": [
    {
     "data": {
      "text/plain": [
       "array([[0.75843541],\n",
       "       [0.51231759],\n",
       "       [0.3090472 ],\n",
       "       [0.38628554]])"
      ]
     },
     "execution_count": 8,
     "metadata": {},
     "output_type": "execute_result"
    }
   ],
   "source": [
    "zValues = np.dot(xMatrix, coefficients)\n",
    "zValues"
   ]
  },
  {
   "cell_type": "markdown",
   "metadata": {},
   "source": [
    "## Calculate RMSE"
   ]
  },
  {
   "cell_type": "code",
   "execution_count": 9,
   "metadata": {},
   "outputs": [
    {
     "data": {
      "text/plain": [
       "0.06508238153393432"
      ]
     },
     "execution_count": 9,
     "metadata": {},
     "output_type": "execute_result"
    }
   ],
   "source": [
    "rmse = np.sqrt(np.mean( \\\n",
    "        np.square(np.subtract(output, zValues)) \\\n",
    "    ))\n",
    "\n",
    "rmse"
   ]
  }
 ],
 "metadata": {
  "kernelspec": {
   "display_name": "Python 3",
   "language": "python",
   "name": "python3"
  },
  "language_info": {
   "codemirror_mode": {
    "name": "ipython",
    "version": 3
   },
   "file_extension": ".py",
   "mimetype": "text/x-python",
   "name": "python",
   "nbconvert_exporter": "python",
   "pygments_lexer": "ipython3",
   "version": "3.11.5"
  },
  "orig_nbformat": 4
 },
 "nbformat": 4,
 "nbformat_minor": 2
}
