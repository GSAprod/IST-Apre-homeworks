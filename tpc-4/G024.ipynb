{
 "cells": [
  {
   "cell_type": "markdown",
   "metadata": {},
   "source": [
    "# Homework 4 (Part II)\n",
    "\n",
    "Aprendizagem 2023/2024 - LEIC @ IST \n",
    "\n",
    "Group #24\n",
    "- Daniel Nunes (Nº 103095)\n",
    "- Gonçalo Alves (Nº 103540)"
   ]
  },
  {
   "cell_type": "markdown",
   "metadata": {},
   "source": [
    "## Data importing and normalization"
   ]
  },
  {
   "cell_type": "code",
   "execution_count": 5,
   "metadata": {},
   "outputs": [
    {
     "data": {
      "text/plain": [
       "array([[0.35568788, 0.51989984, 0.22917997, 0.2508573 , 0.30746116,\n",
       "        0.02514839],\n",
       "       [0.12450104, 0.2967831 , 0.09857833, 0.14462935, 0.47664891,\n",
       "        0.03636497],\n",
       "       [0.41166648, 0.51393229, 0.32299466, 0.30766054, 0.38609692,\n",
       "        0.0175229 ],\n",
       "       ...,\n",
       "       [0.34043781, 0.52244298, 0.28789745, 0.23490726, 0.59779618,\n",
       "        0.01943732],\n",
       "       [0.18425678, 0.27235174, 0.24684569, 0.21462279, 0.52117504,\n",
       "        0.02624045],\n",
       "       [0.07420202, 0.20770855, 0.20261992, 0.14251659, 0.57924032,\n",
       "        0.02527676]])"
      ]
     },
     "metadata": {},
     "output_type": "display_data"
    }
   ],
   "source": [
    "import numpy as np\n",
    "from scipy.io import arff\n",
    "from sklearn.preprocessing import MinMaxScaler\n",
    "\n",
    "# Load your ARFF file\n",
    "data, meta = arff.loadarff('column_diagnosis.arff')\n",
    "\n",
    "# Convert the ARFF data to a NumPy array\n",
    "data = np.array(data.tolist())\n",
    "\n",
    "# Extract the numeric features (the first 6 columns) for normalization\n",
    "numeric_data = data[:, :-1].astype(float)\n",
    "\n",
    "# Initialize the MinMaxScaler\n",
    "scaler = MinMaxScaler()\n",
    "\n",
    "# Fit and transform the data using the scaler\n",
    "normalized_data = scaler.fit_transform(numeric_data)\n",
    "\n",
    "display(normalized_data)"
   ]
  },
  {
   "cell_type": "markdown",
   "metadata": {},
   "source": [
    "## Exercise 1\n",
    "\n",
    "Using sklearn, apply k-means clustering fully unsupervisedly on the normalized data with \n",
    "𝑘 ∈{2,3,4,5} (random=0 and remaining parameters as default). Assess the silhouette and purity of \n",
    "the produced solutions"
   ]
  },
  {
   "cell_type": "code",
   "execution_count": 9,
   "metadata": {},
   "outputs": [
    {
     "name": "stdout",
     "output_type": "stream",
     "text": [
      "Silhouette score for k=2: 0.20730150522479207\n",
      "Accuracy (Purity) for k=2: 0.02258064516129032\n",
      "Silhouette score for k=3: 0.20730150522479207\n",
      "Accuracy (Purity) for k=3: 0.02258064516129032\n",
      "Silhouette score for k=4: 0.20730150522479207\n",
      "Accuracy (Purity) for k=4: 0.02258064516129032\n",
      "Silhouette score for k=5: 0.20730150522479207\n",
      "Accuracy (Purity) for k=5: 0.02258064516129032\n"
     ]
    }
   ],
   "source": [
    "from sklearn.cluster import KMeans\n",
    "from sklearn.metrics import silhouette_score\n",
    "from sklearn.metrics import accuracy_score\n",
    "from sklearn.preprocessing import LabelEncoder\n",
    "\n",
    "# Define the range of k values to try\n",
    "k_values = [2, 3, 4, 5]\n",
    "\n",
    "# Perform k-means clustering for different values of k\n",
    "for k in k_values:\n",
    "    kmeans = KMeans(n_clusters=8, random_state=0, n_init='auto') # the default value of n_clusters is 8 \n",
    "    cluster_labels = kmeans.fit_predict(normalized_data)\n",
    "    \n",
    "    # Calculate silhouette score\n",
    "    silhouette_avg = silhouette_score(normalized_data, cluster_labels)\n",
    "    print(f\"Silhouette score for k={k}: {silhouette_avg}\")\n",
    "    \n",
    "    # Assess purity\n",
    "    # You need to know the ground truth labels to calculate purity\n",
    "    # If you don't have ground truth labels, purity cannot be calculated\n",
    "    ground_truth_labels = data[:, -1].astype(str)\n",
    "    le = LabelEncoder()\n",
    "    ground_truth_labels_encoded = le.fit_transform(ground_truth_labels)\n",
    "    \n",
    "    # Assuming cluster_labels and ground_truth_labels_encoded have the same length\n",
    "    accuracy = accuracy_score(ground_truth_labels_encoded, cluster_labels)\n",
    "    print(f\"Accuracy (Purity) for k={k}: {accuracy}\")"
   ]
  },
  {
   "cell_type": "markdown",
   "metadata": {},
   "source": [
    "## Exercise 2\n",
    "\n",
    "Since we are in the presence of a integer regression task, a recommended trick is to \n",
    "round and bound estimates. Assess the impact of these operations on the MAE of the MLP \n",
    "learnt in previous question."
   ]
  },
  {
   "cell_type": "code",
   "execution_count": 7,
   "metadata": {},
   "outputs": [
    {
     "ename": "NameError",
     "evalue": "name 'y_seed_predictions' is not defined",
     "output_type": "error",
     "traceback": [
      "\u001b[0;31m---------------------------------------------------------------------------\u001b[0m",
      "\u001b[0;31mNameError\u001b[0m                                 Traceback (most recent call last)",
      "\u001b[1;32m/home/danimnunes/ist/3ano/apre/IST-Apre-homeworks/tpc-4/G024.ipynb Cell 7\u001b[0m line \u001b[0;36m1\n\u001b[1;32m     <a href='vscode-notebook-cell:/home/danimnunes/ist/3ano/apre/IST-Apre-homeworks/tpc-4/G024.ipynb#X13sZmlsZQ%3D%3D?line=10'>11</a>\u001b[0m round_bound_seed_mae \u001b[39m=\u001b[39m []\n\u001b[1;32m     <a href='vscode-notebook-cell:/home/danimnunes/ist/3ano/apre/IST-Apre-homeworks/tpc-4/G024.ipynb#X13sZmlsZQ%3D%3D?line=12'>13</a>\u001b[0m y_pred_rounded_bounded_all \u001b[39m=\u001b[39m []\n\u001b[0;32m---> <a href='vscode-notebook-cell:/home/danimnunes/ist/3ano/apre/IST-Apre-homeworks/tpc-4/G024.ipynb#X13sZmlsZQ%3D%3D?line=14'>15</a>\u001b[0m \u001b[39mfor\u001b[39;00m y_pred \u001b[39min\u001b[39;00m y_seed_predictions:\n\u001b[1;32m     <a href='vscode-notebook-cell:/home/danimnunes/ist/3ano/apre/IST-Apre-homeworks/tpc-4/G024.ipynb#X13sZmlsZQ%3D%3D?line=15'>16</a>\u001b[0m     \u001b[39m# Calculate the original MAE for the unrounded predictions\u001b[39;00m\n\u001b[1;32m     <a href='vscode-notebook-cell:/home/danimnunes/ist/3ano/apre/IST-Apre-homeworks/tpc-4/G024.ipynb#X13sZmlsZQ%3D%3D?line=16'>17</a>\u001b[0m     original_seed_mae\u001b[39m.\u001b[39mappend(mean_absolute_error(y_test, y_pred))\n\u001b[1;32m     <a href='vscode-notebook-cell:/home/danimnunes/ist/3ano/apre/IST-Apre-homeworks/tpc-4/G024.ipynb#X13sZmlsZQ%3D%3D?line=18'>19</a>\u001b[0m     \u001b[39m# Apply rounding and bounding to the predictions and calculate the MAE\u001b[39;00m\n",
      "\u001b[0;31mNameError\u001b[0m: name 'y_seed_predictions' is not defined"
     ]
    }
   ],
   "source": [
    "from sklearn.metrics import mean_absolute_error\n",
    "\n",
    "# Function to round and bound estimates\n",
    "def round_and_bound(predictions, lower_bound, upper_bound):\n",
    "    return np.clip(np.round(predictions), lower_bound, upper_bound)\n",
    "\n",
    "lower_bound = 1\n",
    "upper_bound = 10\n",
    "\n",
    "original_seed_mae = []\n",
    "round_bound_seed_mae = []\n",
    "\n",
    "y_pred_rounded_bounded_all = []\n",
    "\n",
    "for y_pred in y_seed_predictions:\n",
    "    # Calculate the original MAE for the unrounded predictions\n",
    "    original_seed_mae.append(mean_absolute_error(y_test, y_pred))\n",
    "    \n",
    "    # Apply rounding and bounding to the predictions and calculate the MAE\n",
    "    y_pred_rounded_bounded = round_and_bound(y_pred, lower_bound, upper_bound)\n",
    "    y_pred_rounded_bounded_all.extend(y_pred_rounded_bounded)\n",
    "    \n",
    "    round_bound_seed_mae.append(mean_absolute_error(y_test, y_pred_rounded_bounded))\n",
    "\n",
    "# Calculate the average MAE for both cases and print the results\n",
    "print(f\"Avg. MAE for Original Predictions: {np.mean(original_seed_mae)}\")\n",
    "print(f\"Avg. MAE for Rounded and Bounded Predictions: \" + \\\n",
    "      f\"{np.mean(round_bound_seed_mae)}\")"
   ]
  },
  {
   "cell_type": "code",
   "execution_count": null,
   "metadata": {},
   "outputs": [
    {
     "data": {
      "image/png": "[encoded data removed]",
      "text/plain": [
       "<Figure size 640x480 with 1 Axes>"
      ]
     },
     "metadata": {},
     "output_type": "display_data"
    }
   ],
   "source": [
    "# Plot the distribution of rounded and bounded predictions\n",
    "redwine_color = (128/255, 0/255, 32/255)  # RGB values should be between 0 and 1\n",
    "plt.hist(y_pred_rounded_bounded_all, bins=np.arange(lower_bound, upper_bound+1), \\\n",
    "         edgecolor='k', color=redwine_color)\n",
    "\n",
    "plt.xlabel('Wine Quality')\n",
    "plt.ylabel('# Observations')\n",
    "plt.title('Distribution of Rounded and Bounded Predictions')\n",
    "plt.grid(True, linestyle='--', alpha=0.7)\n",
    "\n",
    "plt.show()"
   ]
  },
  {
   "cell_type": "markdown",
   "metadata": {},
   "source": [
    "**Our answer**\n",
    "\n",
    "There is a slight decrease on the MAE when the round and bound method is applied to the model's predictions, hence the performance of this model improves when this method is applied."
   ]
  },
  {
   "cell_type": "markdown",
   "metadata": {},
   "source": [
    "## Exercise 3\n",
    "\n",
    " Similarly assess the impact on RMSE from replacing early stopping by a well-defined \n",
    "number of iterations in {20,50,100,200} (where one iteration corresponds to a batch)."
   ]
  },
  {
   "cell_type": "code",
   "execution_count": null,
   "metadata": {},
   "outputs": [],
   "source": [
    "from sklearn.metrics import mean_squared_error\n",
    "\n",
    "# Calculate the original RSME for the predictions with early-stopping\n",
    "original_rmse = 0\n",
    "for y_pred in y_seed_predictions:\n",
    "    original_rmse += np.sqrt(mean_squared_error(y_test, y_pred))\n",
    "\n",
    "original_rmse = original_rmse / len(y_seed_predictions);"
   ]
  },
  {
   "cell_type": "code",
   "execution_count": null,
   "metadata": {},
   "outputs": [
    {
     "name": "stdout",
     "output_type": "stream",
     "text": [
      "RMSE for early-stopping (20% validation): 0.6706527958221328\n",
      "RMSE for 20 iterations: 1.4039789509925442\n",
      "RMSE for 50 iterations: 0.7996073631460566\n",
      "RMSE for 100 iterations: 0.6940361469112144\n",
      "RMSE for 200 iterations: 0.6554543932216474\n"
     ]
    }
   ],
   "source": [
    "iterations = [20, 50, 100, 200]\n",
    "\n",
    "# Train the model with different numbers of iterations\n",
    "rmse_scores = []\n",
    "for num_iterations in iterations:\n",
    "    rmse_iteration_scores = []\n",
    "\n",
    "    for random_seed in random_seeds:\n",
    "        # Learn a MLP Regressor with the same characteristics of the exercise 1,\n",
    "        # except early-stopping gets replaced by a fixed number of iterations\n",
    "        mlp = MLPRegressor(\n",
    "            hidden_layer_sizes=(10, 10), \n",
    "            activation='relu', \n",
    "            random_state=random_seed, \n",
    "            max_iter=num_iterations\n",
    "        )\n",
    "        mlp.fit(X_train, y_train)\n",
    "        y_pred = mlp.predict(X_test)\n",
    "\n",
    "        rmse = np.sqrt(mean_squared_error(y_test, y_pred))\n",
    "        rmse_iteration_scores.append(rmse)\n",
    "    \n",
    "    # Calculate the average RMSE for this number of iterations\n",
    "    rmse_scores.append(np.mean(rmse_iteration_scores));\n",
    "\n",
    "# Print the RMSE for each case\n",
    "print(f\"RMSE for early-stopping (20% validation): {original_rmse}\")\n",
    "\n",
    "for i, num_iterations in enumerate(iterations):\n",
    "    print(f\"RMSE for {num_iterations} iterations: {rmse_scores[i]}\")\n"
   ]
  },
  {
   "cell_type": "markdown",
   "metadata": {},
   "source": [
    "## Exercise 4\n",
    "\n",
    "Critically comment the results obtained in previous question, hypothesizing at least \n",
    "one reason why early stopping favors and/or worsens performance."
   ]
  },
  {
   "cell_type": "markdown",
   "metadata": {},
   "source": [
    "**Our answer**\n",
    "\n",
    "We can conclude from this data that, as the number of maximum iterations for training a model increases, its RMSE values decrease, meaning that the model gets more accurate as the amount of training increases.\n",
    "\n",
    "However, too many iterations may start to cause overfitting on our model, meaning that, while it follows its predictions closer to the training data, it can be more error-prone when evaluating completely new sets of data. Hence, the early-stopping strategy tries to strike a balance between the model's accuracy to the training data and the possibility of overfitting, favouring performance in most cases. This might be the reason why its RMSE value is slightly larger than the one calculated from the model that stops training after 200 iterations."
   ]
  }
 ],
 "metadata": {
  "kernelspec": {
   "display_name": "Python 3",
   "language": "python",
   "name": "python3"
  },
  "language_info": {
   "codemirror_mode": {
    "name": "ipython",
    "version": 3
   },
   "file_extension": ".py",
   "mimetype": "text/x-python",
   "name": "python",
   "nbconvert_exporter": "python",
   "pygments_lexer": "ipython3",
   "version": "3.10.12"
  },
  "orig_nbformat": 4
 },
 "nbformat": 4,
 "nbformat_minor": 2
}
