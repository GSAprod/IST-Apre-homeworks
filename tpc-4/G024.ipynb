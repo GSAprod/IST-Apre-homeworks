{
 "cells": [
  {
   "cell_type": "markdown",
   "metadata": {},
   "source": [
    "# Homework 4 (Part II)\n",
    "\n",
    "Aprendizagem 2023/2024 - LEIC @ IST \n",
    "\n",
    "Group #24\n",
    "- Daniel Nunes (Nº 103095)\n",
    "- Gonçalo Alves (Nº 103540)"
   ]
  },
  {
   "cell_type": "markdown",
   "metadata": {},
   "source": [
    "## Data importing and normalization"
   ]
  },
  {
   "cell_type": "code",
   "execution_count": 1,
   "metadata": {},
   "outputs": [
    {
     "data": {
      "text/html": [
       "<div>\n",
       "<style scoped>\n",
       "    .dataframe tbody tr th:only-of-type {\n",
       "        vertical-align: middle;\n",
       "    }\n",
       "\n",
       "    .dataframe tbody tr th {\n",
       "        vertical-align: top;\n",
       "    }\n",
       "\n",
       "    .dataframe thead th {\n",
       "        text-align: right;\n",
       "    }\n",
       "</style>\n",
       "<table border=\"1\" class=\"dataframe\">\n",
       "  <thead>\n",
       "    <tr style=\"text-align: right;\">\n",
       "      <th></th>\n",
       "      <th>pelvic_incidence</th>\n",
       "      <th>pelvic_tilt</th>\n",
       "      <th>lumbar_lordosis_angle</th>\n",
       "      <th>sacral_slope</th>\n",
       "      <th>pelvic_radius</th>\n",
       "      <th>degree_spondylolisthesis</th>\n",
       "      <th>class</th>\n",
       "    </tr>\n",
       "  </thead>\n",
       "  <tbody>\n",
       "    <tr>\n",
       "      <th>0</th>\n",
       "      <td>63.027817</td>\n",
       "      <td>22.552586</td>\n",
       "      <td>39.609117</td>\n",
       "      <td>40.475232</td>\n",
       "      <td>98.672917</td>\n",
       "      <td>-0.254400</td>\n",
       "      <td>Hernia</td>\n",
       "    </tr>\n",
       "    <tr>\n",
       "      <th>1</th>\n",
       "      <td>39.056951</td>\n",
       "      <td>10.060991</td>\n",
       "      <td>25.015378</td>\n",
       "      <td>28.995960</td>\n",
       "      <td>114.405425</td>\n",
       "      <td>4.564259</td>\n",
       "      <td>Hernia</td>\n",
       "    </tr>\n",
       "    <tr>\n",
       "      <th>2</th>\n",
       "      <td>68.832021</td>\n",
       "      <td>22.218482</td>\n",
       "      <td>50.092194</td>\n",
       "      <td>46.613539</td>\n",
       "      <td>105.985135</td>\n",
       "      <td>-3.530317</td>\n",
       "      <td>Hernia</td>\n",
       "    </tr>\n",
       "    <tr>\n",
       "      <th>3</th>\n",
       "      <td>69.297008</td>\n",
       "      <td>24.652878</td>\n",
       "      <td>44.311238</td>\n",
       "      <td>44.644130</td>\n",
       "      <td>101.868495</td>\n",
       "      <td>11.211523</td>\n",
       "      <td>Hernia</td>\n",
       "    </tr>\n",
       "    <tr>\n",
       "      <th>4</th>\n",
       "      <td>49.712859</td>\n",
       "      <td>9.652075</td>\n",
       "      <td>28.317406</td>\n",
       "      <td>40.060784</td>\n",
       "      <td>108.168725</td>\n",
       "      <td>7.918501</td>\n",
       "      <td>Hernia</td>\n",
       "    </tr>\n",
       "    <tr>\n",
       "      <th>...</th>\n",
       "      <td>...</td>\n",
       "      <td>...</td>\n",
       "      <td>...</td>\n",
       "      <td>...</td>\n",
       "      <td>...</td>\n",
       "      <td>...</td>\n",
       "      <td>...</td>\n",
       "    </tr>\n",
       "    <tr>\n",
       "      <th>305</th>\n",
       "      <td>47.903565</td>\n",
       "      <td>13.616688</td>\n",
       "      <td>36.000000</td>\n",
       "      <td>34.286877</td>\n",
       "      <td>117.449062</td>\n",
       "      <td>-4.245395</td>\n",
       "      <td>Normal</td>\n",
       "    </tr>\n",
       "    <tr>\n",
       "      <th>306</th>\n",
       "      <td>53.936748</td>\n",
       "      <td>20.721496</td>\n",
       "      <td>29.220534</td>\n",
       "      <td>33.215251</td>\n",
       "      <td>114.365845</td>\n",
       "      <td>-0.421010</td>\n",
       "      <td>Normal</td>\n",
       "    </tr>\n",
       "    <tr>\n",
       "      <th>307</th>\n",
       "      <td>61.446597</td>\n",
       "      <td>22.694968</td>\n",
       "      <td>46.170347</td>\n",
       "      <td>38.751628</td>\n",
       "      <td>125.670725</td>\n",
       "      <td>-2.707880</td>\n",
       "      <td>Normal</td>\n",
       "    </tr>\n",
       "    <tr>\n",
       "      <th>308</th>\n",
       "      <td>45.252792</td>\n",
       "      <td>8.693157</td>\n",
       "      <td>41.583126</td>\n",
       "      <td>36.559635</td>\n",
       "      <td>118.545842</td>\n",
       "      <td>0.214750</td>\n",
       "      <td>Normal</td>\n",
       "    </tr>\n",
       "    <tr>\n",
       "      <th>309</th>\n",
       "      <td>33.841641</td>\n",
       "      <td>5.073991</td>\n",
       "      <td>36.641233</td>\n",
       "      <td>28.767649</td>\n",
       "      <td>123.945244</td>\n",
       "      <td>-0.199249</td>\n",
       "      <td>Normal</td>\n",
       "    </tr>\n",
       "  </tbody>\n",
       "</table>\n",
       "<p>310 rows × 7 columns</p>\n",
       "</div>"
      ],
      "text/plain": [
       "     pelvic_incidence  pelvic_tilt  lumbar_lordosis_angle  sacral_slope  \\\n",
       "0           63.027817    22.552586              39.609117     40.475232   \n",
       "1           39.056951    10.060991              25.015378     28.995960   \n",
       "2           68.832021    22.218482              50.092194     46.613539   \n",
       "3           69.297008    24.652878              44.311238     44.644130   \n",
       "4           49.712859     9.652075              28.317406     40.060784   \n",
       "..                ...          ...                    ...           ...   \n",
       "305         47.903565    13.616688              36.000000     34.286877   \n",
       "306         53.936748    20.721496              29.220534     33.215251   \n",
       "307         61.446597    22.694968              46.170347     38.751628   \n",
       "308         45.252792     8.693157              41.583126     36.559635   \n",
       "309         33.841641     5.073991              36.641233     28.767649   \n",
       "\n",
       "     pelvic_radius  degree_spondylolisthesis   class  \n",
       "0        98.672917                 -0.254400  Hernia  \n",
       "1       114.405425                  4.564259  Hernia  \n",
       "2       105.985135                 -3.530317  Hernia  \n",
       "3       101.868495                 11.211523  Hernia  \n",
       "4       108.168725                  7.918501  Hernia  \n",
       "..             ...                       ...     ...  \n",
       "305     117.449062                 -4.245395  Normal  \n",
       "306     114.365845                 -0.421010  Normal  \n",
       "307     125.670725                 -2.707880  Normal  \n",
       "308     118.545842                  0.214750  Normal  \n",
       "309     123.945244                 -0.199249  Normal  \n",
       "\n",
       "[310 rows x 7 columns]"
      ]
     },
     "metadata": {},
     "output_type": "display_data"
    }
   ],
   "source": [
    "import pandas as pd, numpy as np\n",
    "from scipy.io.arff import loadarff\n",
    "\n",
    "original_data = loadarff('column_diagnosis.arff')\n",
    "df = pd.DataFrame(original_data[0])\n",
    "df['class'] = df['class'].str.decode('utf-8')\n",
    "\n",
    "X = df.drop(\"class\", axis=1)\n",
    "y = df[\"class\"]\n",
    "\n",
    "display(df)"
   ]
  },
  {
   "cell_type": "code",
   "execution_count": 2,
   "metadata": {},
   "outputs": [
    {
     "data": {
      "text/plain": [
       "array([[0.35568788, 0.51989984, 0.22917997, 0.2508573 , 0.30746116,\n",
       "        0.02514839],\n",
       "       [0.12450104, 0.2967831 , 0.09857833, 0.14462935, 0.47664891,\n",
       "        0.03636497],\n",
       "       [0.41166648, 0.51393229, 0.32299466, 0.30766054, 0.38609692,\n",
       "        0.0175229 ],\n",
       "       ...,\n",
       "       [0.34043781, 0.52244298, 0.28789745, 0.23490726, 0.59779618,\n",
       "        0.01943732],\n",
       "       [0.18425678, 0.27235174, 0.24684569, 0.21462279, 0.52117504,\n",
       "        0.02624045],\n",
       "       [0.07420202, 0.20770855, 0.20261992, 0.14251659, 0.57924032,\n",
       "        0.02527676]])"
      ]
     },
     "metadata": {},
     "output_type": "display_data"
    }
   ],
   "source": [
    "import numpy as np\n",
    "from sklearn.preprocessing import MinMaxScaler\n",
    "\n",
    "# Initialize the MinMaxScaler\n",
    "scaler = MinMaxScaler()\n",
    "\n",
    "# Fit and transform the data using the scaler\n",
    "normalized_data = scaler.fit_transform(X)\n",
    "\n",
    "display(normalized_data)"
   ]
  },
  {
   "cell_type": "markdown",
   "metadata": {},
   "source": [
    "## Exercise 1\n",
    "\n",
    "Using sklearn, apply k-means clustering fully unsupervisedly on the normalized data with \n",
    "𝑘 ∈{2,3,4,5} (random=0 and remaining parameters as default). Assess the silhouette and purity of \n",
    "the produced solutions"
   ]
  },
  {
   "cell_type": "code",
   "execution_count": 3,
   "metadata": {},
   "outputs": [
    {
     "name": "stdout",
     "output_type": "stream",
     "text": [
      "Silhouette score for k=2: 0.3581243912917459\n",
      "Accuracy (Purity) for k=2: 0.2967741935483871\n",
      "\n",
      "Silhouette score for k=3: 0.2920953577230245\n",
      "Accuracy (Purity) for k=3: 0.4612903225806452\n",
      "\n",
      "Silhouette score for k=4: 0.21865213610632914\n",
      "Accuracy (Purity) for k=4: 0.36129032258064514\n",
      "\n",
      "Silhouette score for k=5: 0.21208383771390493\n",
      "Accuracy (Purity) for k=5: 0.23870967741935484\n",
      "\n"
     ]
    }
   ],
   "source": [
    "from sklearn.cluster import KMeans\n",
    "from sklearn.metrics import silhouette_score\n",
    "from sklearn.metrics import accuracy_score\n",
    "from sklearn.preprocessing import LabelEncoder\n",
    "\n",
    "# Define the range of k values to try\n",
    "k_values = [2, 3, 4, 5]\n",
    "\n",
    "# Perform k-means clustering for different values of k\n",
    "for k in k_values:\n",
    "    kmeans = KMeans(n_clusters=k, random_state=0, n_init='auto')\n",
    "    cluster_labels = kmeans.fit_predict(normalized_data)\n",
    "    \n",
    "    # Calculate silhouette score\n",
    "    silhouette_avg = silhouette_score(normalized_data, cluster_labels)\n",
    "    print(f\"Silhouette score for k={k}: {silhouette_avg}\")\n",
    "    \n",
    "    # Assess purity\n",
    "    # You need to know the ground truth labels to calculate purity\n",
    "    # If you don't have ground truth labels, purity cannot be calculated\n",
    "    le = LabelEncoder()\n",
    "    ground_truth_labels_encoded = le.fit_transform(y)\n",
    "    \n",
    "    # Assuming cluster_labels and ground_truth_labels_encoded have the same length\n",
    "    accuracy = accuracy_score(ground_truth_labels_encoded, cluster_labels)\n",
    "    print(f\"Accuracy (Purity) for k={k}: {accuracy}\\n\")"
   ]
  },
  {
   "cell_type": "markdown",
   "metadata": {},
   "source": [
    "## Exercise 2\n",
    "\n",
    "Consider the application of PCA after the data normalization:"
   ]
  },
  {
   "cell_type": "markdown",
   "metadata": {},
   "source": [
    "i. Identify the variability explained by the top two principal components."
   ]
  },
  {
   "cell_type": "code",
   "execution_count": 7,
   "metadata": {},
   "outputs": [
    {
     "name": "stdout",
     "output_type": "stream",
     "text": [
      "Percentage of variability explained by the top two principal components:\n",
      "Component 1: 56.181444842992114 %\n",
      "Component 2: 20.955952591361882 %\n"
     ]
    }
   ],
   "source": [
    "from sklearn.decomposition import PCA\n",
    "\n",
    "num_top_components = 2\n",
    "\n",
    "pca = PCA(n_components=num_top_components)\n",
    "principal_components = pca.fit_transform(normalized_data)\n",
    "\n",
    "explained_var_ratio = pca.explained_variance_ratio_\n",
    "print(f\"Percentage of variability explained by the top two principal components:\")\n",
    "print(\"Component 1:\", explained_var_ratio[0] * 100, \"%\")\n",
    "print(\"Component 2:\", explained_var_ratio[1] * 100, \"%\")"
   ]
  },
  {
   "cell_type": "markdown",
   "metadata": {},
   "source": [
    "ii. For each one of these two components, sort the input variables by relevance by inspecting the absolute weights of the linear projection."
   ]
  },
  {
   "cell_type": "code",
   "execution_count": 30,
   "metadata": {},
   "outputs": [
    {
     "name": "stdout",
     "output_type": "stream",
     "text": [
      "Top features (Component 1)  Weight\n",
      "1.pelvic_incidence          0.5916206177372231  \n",
      "2.lumbar_lordosis_angle     0.515084762073092   \n",
      "3.pelvic_tilt               0.4670394389672722  \n",
      "4.sacral_slope              0.32568886255691937 \n",
      "5.degree_spondylolisthesis  0.21692963450485375 \n",
      "6.pelvic_radius             0.11582397626328875 \n",
      "\n",
      "Top features (Component 2)  Weight\n",
      "1.pelvic_tilt               0.6703727595553639  \n",
      "2.pelvic_radius             0.5810738370953586  \n",
      "3.sacral_slope              0.44330299494707504 \n",
      "4.pelvic_incidence          0.10003707489152272 \n",
      "5.lumbar_lordosis_angle     0.08004745059088425 \n",
      "6.degree_spondylolisthesis  0.004582909709400146\n",
      "\n"
     ]
    }
   ],
   "source": [
    "weights_abs = abs(pca.components_)\n",
    "\n",
    "sorted_features_by_component = []\n",
    "for component_idx in range(num_top_components):\n",
    "    feature_weights = list(enumerate(weights_abs[component_idx]))\n",
    "    sorted_features = sorted(feature_weights, key=lambda x: x[1], reverse=True)\n",
    "    sorted_features_by_component.append(sorted_features)\n",
    "\n",
    "# Print the sorted input variables for each of the top two components\n",
    "features = list(df.columns.values)\n",
    "for component_idx in range(num_top_components):\n",
    "    print(f\"Top features (Component {component_idx + 1})  Weight\")\n",
    "    i = 1\n",
    "    for feature_idx, weight in sorted_features_by_component[component_idx]:\n",
    "        feature_name = features[feature_idx]\n",
    "\n",
    "        # Prnt the results in a neatly arranged table\n",
    "        print(\"{}.{:<25} {:<20}\".format(i, feature_name, weight))\n",
    "        i = i+1\n",
    "    print()"
   ]
  },
  {
   "cell_type": "markdown",
   "metadata": {},
   "source": [
    "**Our answer**"
   ]
  },
  {
   "cell_type": "markdown",
   "metadata": {},
   "source": [
    "## Exercise 3\n",
    "\n",
    "Visualize side-by-side the data using: i) the ground diagnoses, and ii) the previously learned k=3 clustering solution. To this end, projected the normalized data onto a 2-dimensional data space using PCA and then color observations using the reference and cluster annotations. "
   ]
  },
  {
   "cell_type": "code",
   "execution_count": null,
   "metadata": {},
   "outputs": [],
   "source": []
  },
  {
   "cell_type": "markdown",
   "metadata": {},
   "source": [
    "## Exercise 4\n",
    "\n",
    "Considering the results from questions (1) and (3), identify two ways on how clustering can be used to characterize the population of ill and healthy individuals. "
   ]
  },
  {
   "cell_type": "markdown",
   "metadata": {},
   "source": [
    "**Our answer**\n",
    "\n",
    "We can conclude from this data that, as the number of maximum iterations for training a model increases, its RMSE values decrease, meaning that the model gets more accurate as the amount of training increases.\n",
    "\n",
    "However, too many iterations may start to cause overfitting on our model, meaning that, while it follows its predictions closer to the training data, it can be more error-prone when evaluating completely new sets of data. Hence, the early-stopping strategy tries to strike a balance between the model's accuracy to the training data and the possibility of overfitting, favouring performance in most cases. This might be the reason why its RMSE value is slightly larger than the one calculated from the model that stops training after 200 iterations."
   ]
  }
 ],
 "metadata": {
  "kernelspec": {
   "display_name": "Python 3",
   "language": "python",
   "name": "python3"
  },
  "language_info": {
   "codemirror_mode": {
    "name": "ipython",
    "version": 3
   },
   "file_extension": ".py",
   "mimetype": "text/x-python",
   "name": "python",
   "nbconvert_exporter": "python",
   "pygments_lexer": "ipython3",
   "version": "3.11.5"
  },
  "orig_nbformat": 4
 },
 "nbformat": 4,
 "nbformat_minor": 2
}
