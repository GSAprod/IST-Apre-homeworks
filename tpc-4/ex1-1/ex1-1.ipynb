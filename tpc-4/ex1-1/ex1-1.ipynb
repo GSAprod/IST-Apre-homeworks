{
 "cells": [
  {
   "cell_type": "markdown",
   "metadata": {},
   "source": [
    "# Data importing"
   ]
  },
  {
   "cell_type": "code",
   "execution_count": 2,
   "metadata": {},
   "outputs": [],
   "source": [
    "import numpy as np\n",
    "\n",
    "x = [[1, 0.6, 0.1],\n",
    "     [0, -0.4, 0.8],\n",
    "     [0, 0.2, 0.5],\n",
    "     [1, 0.4, -0.1]]"
   ]
  },
  {
   "cell_type": "code",
   "execution_count": 3,
   "metadata": {},
   "outputs": [],
   "source": [
    "coef1 = 0.5\n",
    "coef2 = 0.5\n",
    "\n",
    "p1 = 0.3\n",
    "p2 = 0.7\n",
    "\n",
    "mean1 = [1, 1]\n",
    "cov_matrix1 = [[2, 0.5], [0.5, 2]]\n",
    "\n",
    "mean2 = [0, 0]\n",
    "cov_matrix2 = [[1.5, 1], [1, 1.5]]"
   ]
  },
  {
   "cell_type": "markdown",
   "metadata": {},
   "source": [
    "# E-Step"
   ]
  },
  {
   "cell_type": "markdown",
   "metadata": {},
   "source": [
    "P(x|c)"
   ]
  },
  {
   "cell_type": "code",
   "execution_count": 4,
   "metadata": {},
   "outputs": [
    {
     "data": {
      "text/plain": [
       "[0.019972589760910178,\n",
       " 0.035034221769896304,\n",
       " 0.047862166487579405,\n",
       " 0.01771409803311908]"
      ]
     },
     "execution_count": 4,
     "metadata": {},
     "output_type": "execute_result"
    }
   ],
   "source": [
    "from scipy.stats import multivariate_normal\n",
    "\n",
    "p_x_c1 = []\n",
    "for i in range(len(x)):\n",
    "    if x[i][0] == 1:\n",
    "        p = 0.3\n",
    "    else:\n",
    "        p = 0.7\n",
    "    p_x_c1.append(p * multivariate_normal.pdf(x[i][1:], mean1, cov_matrix1))\n",
    "\n",
    "p_x_c1"
   ]
  },
  {
   "cell_type": "code",
   "execution_count": 5,
   "metadata": {},
   "outputs": [
    {
     "data": {
      "text/plain": [
       "array([0.00998629, 0.01751711, 0.02393108, 0.00885705])"
      ]
     },
     "execution_count": 5,
     "metadata": {},
     "output_type": "execute_result"
    }
   ],
   "source": [
    "p_c1_x_prop = np.multiply(0.5, p_x_c1)\n",
    "p_c1_x_prop"
   ]
  },
  {
   "cell_type": "code",
   "execution_count": 6,
   "metadata": {},
   "outputs": [
    {
     "data": {
      "text/plain": [
       "[0.08373285999441,\n",
       " 0.02045717409764841,\n",
       " 0.03887431044487811,\n",
       " 0.08715006283612474]"
      ]
     },
     "execution_count": 6,
     "metadata": {},
     "output_type": "execute_result"
    }
   ],
   "source": [
    "p_x_c2 = []\n",
    "for i in range(len(x)):\n",
    "    if x[i][0] == 1:\n",
    "        p = 0.7\n",
    "    else:\n",
    "        p = 0.3\n",
    "    p_x_c2.append(p * multivariate_normal.pdf(x[i][1:], mean2, cov_matrix2))\n",
    "\n",
    "p_x_c2"
   ]
  },
  {
   "cell_type": "code",
   "execution_count": 7,
   "metadata": {},
   "outputs": [
    {
     "data": {
      "text/plain": [
       "array([0.04186643, 0.01022859, 0.01943716, 0.04357503])"
      ]
     },
     "execution_count": 7,
     "metadata": {},
     "output_type": "execute_result"
    }
   ],
   "source": [
    "p_c2_x_prop = np.multiply(0.5, p_x_c2)\n",
    "p_c2_x_prop"
   ]
  },
  {
   "cell_type": "markdown",
   "metadata": {},
   "source": [
    "P(c|x)"
   ]
  },
  {
   "cell_type": "code",
   "execution_count": 8,
   "metadata": {},
   "outputs": [
    {
     "data": {
      "text/plain": [
       "array([0.19258959, 0.63134512, 0.55181128, 0.16892423])"
      ]
     },
     "execution_count": 8,
     "metadata": {},
     "output_type": "execute_result"
    }
   ],
   "source": [
    "p_c1_x = np.divide(p_c1_x_prop, np.add(p_c1_x_prop, p_c2_x_prop))\n",
    "p_c1_x"
   ]
  },
  {
   "cell_type": "code",
   "execution_count": 9,
   "metadata": {},
   "outputs": [
    {
     "data": {
      "text/plain": [
       "array([0.80741041, 0.36865488, 0.44818872, 0.83107577])"
      ]
     },
     "execution_count": 9,
     "metadata": {},
     "output_type": "execute_result"
    }
   ],
   "source": [
    "p_c2_x = np.divide(p_c2_x_prop, np.add(p_c1_x_prop, p_c2_x_prop))\n",
    "p_c2_x"
   ]
  },
  {
   "cell_type": "markdown",
   "metadata": {},
   "source": [
    "N1 and N2"
   ]
  },
  {
   "cell_type": "code",
   "execution_count": 10,
   "metadata": {},
   "outputs": [
    {
     "data": {
      "text/plain": [
       "1.5446702187154808"
      ]
     },
     "execution_count": 10,
     "metadata": {},
     "output_type": "execute_result"
    }
   ],
   "source": [
    "N1 = sum(p_c1_x)\n",
    "N1"
   ]
  },
  {
   "cell_type": "code",
   "execution_count": 11,
   "metadata": {},
   "outputs": [
    {
     "data": {
      "text/plain": [
       "2.4553297812845187"
      ]
     },
     "execution_count": 11,
     "metadata": {},
     "output_type": "execute_result"
    }
   ],
   "source": [
    "N2 = sum(p_c2_x)\n",
    "N2"
   ]
  },
  {
   "cell_type": "markdown",
   "metadata": {},
   "source": [
    "π1 and π2"
   ]
  },
  {
   "cell_type": "code",
   "execution_count": 12,
   "metadata": {},
   "outputs": [
    {
     "data": {
      "text/plain": [
       "0.38616755467887026"
      ]
     },
     "execution_count": 12,
     "metadata": {},
     "output_type": "execute_result"
    }
   ],
   "source": [
    "new_coef1 = N1/(N1+N2)\n",
    "new_coef1"
   ]
  },
  {
   "cell_type": "code",
   "execution_count": 13,
   "metadata": {},
   "outputs": [
    {
     "data": {
      "text/plain": [
       "0.6138324453211298"
      ]
     },
     "execution_count": 13,
     "metadata": {},
     "output_type": "execute_result"
    }
   ],
   "source": [
    "new_coef2 = N2/(N1+N2)\n",
    "new_coef2"
   ]
  },
  {
   "cell_type": "markdown",
   "metadata": {},
   "source": [
    "p1 and p2"
   ]
  },
  {
   "cell_type": "code",
   "execution_count": 14,
   "metadata": {},
   "outputs": [
    {
     "data": {
      "text/plain": [
       "0.23403948408541084"
      ]
     },
     "execution_count": 14,
     "metadata": {},
     "output_type": "execute_result"
    }
   ],
   "source": [
    "new_p1 = 0\n",
    "for i in range(len(x)):\n",
    "    new_p1 += p_c1_x[i] * x[i][0]\n",
    "\n",
    "new_p1 = new_p1 / N1\n",
    "new_p1"
   ]
  },
  {
   "cell_type": "code",
   "execution_count": 15,
   "metadata": {},
   "outputs": [
    {
     "data": {
      "text/plain": [
       "0.6673181710330363"
      ]
     },
     "execution_count": 15,
     "metadata": {},
     "output_type": "execute_result"
    }
   ],
   "source": [
    "new_p2 = 0\n",
    "for i in range(len(x)):\n",
    "    new_p2 += p_c2_x[i] * x[i][0]\n",
    "\n",
    "new_p2 = new_p2 / N2\n",
    "new_p2"
   ]
  },
  {
   "cell_type": "markdown",
   "metadata": {},
   "source": [
    "mean1 and mean2"
   ]
  },
  {
   "cell_type": "code",
   "execution_count": 16,
   "metadata": {},
   "outputs": [
    {
     "data": {
      "text/plain": [
       "array([[0.026509  ],\n",
       "       [0.50712978]])"
      ]
     },
     "execution_count": 16,
     "metadata": {},
     "output_type": "execute_result"
    }
   ],
   "source": [
    "new_mean1 = np.array([[0], [0]])\n",
    "for i in range(len(x)):\n",
    "    new_mean1 = np.add(new_mean1, p_c1_x[i] * np.vstack(x[i][1:]))\n",
    "\n",
    "new_mean1 = np.divide(new_mean1, N1)\n",
    "new_mean1"
   ]
  },
  {
   "cell_type": "code",
   "execution_count": 17,
   "metadata": {},
   "outputs": [
    {
     "data": {
      "text/plain": [
       "array([[0.30914476],\n",
       "       [0.2104205 ]])"
      ]
     },
     "execution_count": 17,
     "metadata": {},
     "output_type": "execute_result"
    }
   ],
   "source": [
    "new_mean2 = np.array([[0], [0]])\n",
    "for i in range(len(x)):\n",
    "    new_mean2 = np.add(new_mean2, p_c2_x[i] * np.vstack(x[i][1:]))\n",
    "\n",
    "new_mean2 = np.divide(new_mean2, N2)\n",
    "new_mean2"
   ]
  },
  {
   "cell_type": "markdown",
   "metadata": {},
   "source": [
    "cov_matrix1 and cov_matrix2"
   ]
  },
  {
   "cell_type": "code",
   "execution_count": 18,
   "metadata": {},
   "outputs": [
    {
     "data": {
      "text/plain": [
       "array([[ 0.14136501, -0.10540546],\n",
       "       [-0.10540546,  0.0960526 ]])"
      ]
     },
     "execution_count": 18,
     "metadata": {},
     "output_type": "execute_result"
    }
   ],
   "source": [
    "new_covmatrix1 = np.array([[0, 0], [0, 0]])\n",
    "for i in range(len(x)):\n",
    "    new_covmatrix1 = np.add(new_covmatrix1, \n",
    "        np.dot(\n",
    "            p_c1_x[i] * np.subtract(np.vstack(x[i][1:]), new_mean1),\n",
    "            np.transpose(np.subtract(np.vstack(x[i][1:]), new_mean1))\n",
    "        )\n",
    "    )\n",
    "\n",
    "new_covmatrix1 = np.divide(new_covmatrix1, N1)\n",
    "new_covmatrix1"
   ]
  },
  {
   "cell_type": "code",
   "execution_count": 19,
   "metadata": {},
   "outputs": [
    {
     "data": {
      "text/plain": [
       "array([[ 0.10829305, -0.08865175],\n",
       "       [-0.08865175,  0.1041233 ]])"
      ]
     },
     "execution_count": 19,
     "metadata": {},
     "output_type": "execute_result"
    }
   ],
   "source": [
    "new_covmatrix2 = np.array([[0, 0], [0, 0]])\n",
    "for i in range(len(x)):\n",
    "    new_covmatrix2 = np.add(new_covmatrix2, \n",
    "        np.dot(\n",
    "            p_c2_x[i] * np.subtract(np.vstack(x[i][1:]), new_mean2),\n",
    "            np.transpose(np.subtract(np.vstack(x[i][1:]), new_mean2))\n",
    "        )\n",
    "    )\n",
    "\n",
    "new_covmatrix2 = np.divide(new_covmatrix2, N2)\n",
    "new_covmatrix2"
   ]
  },
  {
   "cell_type": "code",
   "execution_count": 21,
   "metadata": {},
   "outputs": [
    {
     "data": {
      "text/plain": [
       "array([[30.4748368 , 25.94661724],\n",
       "       [25.94661724, 31.69523838]])"
      ]
     },
     "execution_count": 21,
     "metadata": {},
     "output_type": "execute_result"
    }
   ],
   "source": [
    "np.linalg.inv(new_covmatrix2)"
   ]
  },
  {
   "cell_type": "markdown",
   "metadata": {},
   "source": [
    "# Ex2 - X_new = [1, 0.3, 0.7]"
   ]
  },
  {
   "cell_type": "code",
   "execution_count": 25,
   "metadata": {},
   "outputs": [],
   "source": [
    "x_new = [1, 0.3, 0.7]"
   ]
  },
  {
   "cell_type": "code",
   "execution_count": 35,
   "metadata": {},
   "outputs": [
    {
     "data": {
      "text/plain": [
       "0.016946616264150456"
      ]
     },
     "execution_count": 35,
     "metadata": {},
     "output_type": "execute_result"
    }
   ],
   "source": [
    "if x_new[0] == 1:\n",
    "    p = new_p1\n",
    "else:\n",
    "    p = 1-new_p1\n",
    "p_xnew_c1 = p * multivariate_normal.pdf(x_new[1:], mean1, cov_matrix1)\n",
    "\n",
    "p_xnew_c1"
   ]
  },
  {
   "cell_type": "code",
   "execution_count": 34,
   "metadata": {},
   "outputs": [
    {
     "data": {
      "text/plain": [
       "0.006544289228869047"
      ]
     },
     "execution_count": 34,
     "metadata": {},
     "output_type": "execute_result"
    }
   ],
   "source": [
    "p_c1_xnew_prop = new_coef1 * p_xnew_c1\n",
    "p_c1_xnew_prop"
   ]
  },
  {
   "cell_type": "code",
   "execution_count": 42,
   "metadata": {},
   "outputs": [
    {
     "data": {
      "text/plain": [
       "0.07934600571519558"
      ]
     },
     "execution_count": 42,
     "metadata": {},
     "output_type": "execute_result"
    }
   ],
   "source": [
    "if x_new[0] == 1:\n",
    "    p = new_p2\n",
    "else:\n",
    "    p = 1-new_p2\n",
    "p_xnew_c2 = p * multivariate_normal.pdf(x_new[1:], mean2, cov_matrix2)\n",
    "\n",
    "p_xnew_c2"
   ]
  },
  {
   "cell_type": "code",
   "execution_count": 40,
   "metadata": {},
   "outputs": [
    {
     "data": {
      "text/plain": [
       "0.04870515271462284"
      ]
     },
     "execution_count": 40,
     "metadata": {},
     "output_type": "execute_result"
    }
   ],
   "source": [
    "p_c2_xnew_prop = new_coef2 * p_xnew_c2\n",
    "p_c2_xnew_prop"
   ]
  },
  {
   "cell_type": "code",
   "execution_count": 43,
   "metadata": {},
   "outputs": [
    {
     "data": {
      "text/plain": [
       "0.11844987023692338"
      ]
     },
     "execution_count": 43,
     "metadata": {},
     "output_type": "execute_result"
    }
   ],
   "source": [
    "p_c1_xnew = p_c1_xnew_prop / np.add(p_c1_xnew_prop, p_c2_xnew_prop)\n",
    "p_c1_xnew"
   ]
  },
  {
   "cell_type": "code",
   "execution_count": 44,
   "metadata": {},
   "outputs": [
    {
     "data": {
      "text/plain": [
       "0.8815501297630766"
      ]
     },
     "execution_count": 44,
     "metadata": {},
     "output_type": "execute_result"
    }
   ],
   "source": [
    "p_c2_xnew = p_c2_xnew_prop / np.add(p_c1_xnew_prop, p_c2_xnew_prop)\n",
    "p_c2_xnew"
   ]
  }
 ],
 "metadata": {
  "kernelspec": {
   "display_name": "Python 3",
   "language": "python",
   "name": "python3"
  },
  "language_info": {
   "codemirror_mode": {
    "name": "ipython",
    "version": 3
   },
   "file_extension": ".py",
   "mimetype": "text/x-python",
   "name": "python",
   "nbconvert_exporter": "python",
   "pygments_lexer": "ipython3",
   "version": "3.11.5"
  }
 },
 "nbformat": 4,
 "nbformat_minor": 2
}
