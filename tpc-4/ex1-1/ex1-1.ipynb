{
 "cells": [
  {
   "cell_type": "markdown",
   "metadata": {},
   "source": [
    "# Data importing"
   ]
  },
  {
   "cell_type": "code",
   "execution_count": 1,
   "metadata": {},
   "outputs": [],
   "source": [
    "import numpy as np\n",
    "\n",
    "x = [[1, 0.6, 0.1],\n",
    "     [0, -0.4, 0.8],\n",
    "     [0, 0.2, 0.5],\n",
    "     [1, 0.4, -0.1]]"
   ]
  },
  {
   "cell_type": "code",
   "execution_count": 2,
   "metadata": {},
   "outputs": [],
   "source": [
    "coef1 = 0.5\n",
    "coef2 = 0.5\n",
    "\n",
    "p1 = 0.3\n",
    "p2 = 0.7\n",
    "\n",
    "mean1 = [1, 1]\n",
    "cov_matrix1 = [[2, 0.5], [0.5, 2]]\n",
    "\n",
    "mean2 = [0, 0]\n",
    "cov_matrix2 = [[1.5, 1], [1, 1.5]]"
   ]
  },
  {
   "cell_type": "markdown",
   "metadata": {},
   "source": [
    "# E-Step"
   ]
  },
  {
   "cell_type": "markdown",
   "metadata": {},
   "source": [
    "P(x|c)"
   ]
  },
  {
   "cell_type": "code",
   "execution_count": 28,
   "metadata": {},
   "outputs": [
    {
     "data": {
      "text/plain": [
       "[0.2314743376774436,\n",
       " 1.266332483325112,\n",
       " 1.4381104036459127,\n",
       " 0.02076522613490563]"
      ]
     },
     "execution_count": 28,
     "metadata": {},
     "output_type": "execute_result"
    }
   ],
   "source": [
    "from scipy.stats import multivariate_normal\n",
    "\n",
    "p_x_c1 = []\n",
    "for i in range(len(x)):\n",
    "    if x[i][0] == 1:\n",
    "        p = p1\n",
    "    else:\n",
    "        p = 1-p1\n",
    "    p_x_c1.append(p * multivariate_normal.pdf(x[i][1:], mean1, cov_matrix1))\n",
    "\n",
    "p_x_c1"
   ]
  },
  {
   "cell_type": "code",
   "execution_count": 29,
   "metadata": {},
   "outputs": [
    {
     "data": {
      "text/plain": [
       "array([0.08938788, 0.48901652, 0.55535158, 0.00801886])"
      ]
     },
     "execution_count": 29,
     "metadata": {},
     "output_type": "execute_result"
    }
   ],
   "source": [
    "p_c1_x_prop = np.multiply(coef1, p_x_c1)\n",
    "p_c1_x_prop"
   ]
  },
  {
   "cell_type": "code",
   "execution_count": 30,
   "metadata": {},
   "outputs": [
    {
     "data": {
      "text/plain": [
       "[0.9495425230090517,\n",
       " 0.08873672123767427,\n",
       " 0.4541744972869781,\n",
       " 0.7233119821229741]"
      ]
     },
     "execution_count": 30,
     "metadata": {},
     "output_type": "execute_result"
    }
   ],
   "source": [
    "p_x_c2 = []\n",
    "for i in range(len(x)):\n",
    "    if x[i][0] == 1:\n",
    "        p = p2\n",
    "    else:\n",
    "        p = 1-p2\n",
    "    p_x_c2.append(p * multivariate_normal.pdf(x[i][1:], mean2, cov_matrix2))\n",
    "\n",
    "p_x_c2"
   ]
  },
  {
   "cell_type": "code",
   "execution_count": 31,
   "metadata": {},
   "outputs": [
    {
     "data": {
      "text/plain": [
       "array([0.58286001, 0.05446948, 0.27878704, 0.44399236])"
      ]
     },
     "execution_count": 31,
     "metadata": {},
     "output_type": "execute_result"
    }
   ],
   "source": [
    "p_c2_x_prop = np.multiply(coef2, p_x_c2)\n",
    "p_c2_x_prop"
   ]
  },
  {
   "cell_type": "markdown",
   "metadata": {},
   "source": [
    "P(c|x)"
   ]
  },
  {
   "cell_type": "code",
   "execution_count": 32,
   "metadata": {},
   "outputs": [
    {
     "data": {
      "text/plain": [
       "array([0.13296863, 0.89977759, 0.66577852, 0.01774039])"
      ]
     },
     "execution_count": 32,
     "metadata": {},
     "output_type": "execute_result"
    }
   ],
   "source": [
    "p_c1_x = np.divide(p_c1_x_prop, np.add(p_c1_x_prop, p_c2_x_prop))\n",
    "p_c1_x"
   ]
  },
  {
   "cell_type": "code",
   "execution_count": 33,
   "metadata": {},
   "outputs": [
    {
     "data": {
      "text/plain": [
       "array([0.86703137, 0.10022241, 0.33422148, 0.98225961])"
      ]
     },
     "execution_count": 33,
     "metadata": {},
     "output_type": "execute_result"
    }
   ],
   "source": [
    "p_c2_x = np.divide(p_c2_x_prop, np.add(p_c1_x_prop, p_c2_x_prop))\n",
    "p_c2_x"
   ]
  },
  {
   "cell_type": "markdown",
   "metadata": {},
   "source": [
    "N1 and N2"
   ]
  },
  {
   "cell_type": "code",
   "execution_count": 34,
   "metadata": {},
   "outputs": [
    {
     "data": {
      "text/plain": [
       "1.716265128604998"
      ]
     },
     "execution_count": 34,
     "metadata": {},
     "output_type": "execute_result"
    }
   ],
   "source": [
    "N1 = sum(p_c1_x)\n",
    "N1"
   ]
  },
  {
   "cell_type": "code",
   "execution_count": 35,
   "metadata": {},
   "outputs": [
    {
     "data": {
      "text/plain": [
       "2.2837348713950023"
      ]
     },
     "execution_count": 35,
     "metadata": {},
     "output_type": "execute_result"
    }
   ],
   "source": [
    "N2 = sum(p_c2_x)\n",
    "N2"
   ]
  },
  {
   "cell_type": "markdown",
   "metadata": {},
   "source": [
    "π1 and π2"
   ]
  },
  {
   "cell_type": "code",
   "execution_count": 36,
   "metadata": {},
   "outputs": [
    {
     "data": {
      "text/plain": [
       "0.4290662821512495"
      ]
     },
     "execution_count": 36,
     "metadata": {},
     "output_type": "execute_result"
    }
   ],
   "source": [
    "new_coef1 = N1/(N1+N2)\n",
    "new_coef1"
   ]
  },
  {
   "cell_type": "code",
   "execution_count": 37,
   "metadata": {},
   "outputs": [
    {
     "data": {
      "text/plain": [
       "0.5709337178487506"
      ]
     },
     "execution_count": 37,
     "metadata": {},
     "output_type": "execute_result"
    }
   ],
   "source": [
    "new_coef2 = N2/(N1+N2)\n",
    "new_coef2"
   ]
  },
  {
   "cell_type": "markdown",
   "metadata": {},
   "source": [
    "p1 and p2"
   ]
  },
  {
   "cell_type": "code",
   "execution_count": 38,
   "metadata": {},
   "outputs": [
    {
     "data": {
      "text/plain": [
       "0.08781220208246035"
      ]
     },
     "execution_count": 38,
     "metadata": {},
     "output_type": "execute_result"
    }
   ],
   "source": [
    "new_p1 = 0\n",
    "for i in range(len(x)):\n",
    "    new_p1 += p_c1_x[i] * x[i][0]\n",
    "\n",
    "new_p1 = new_p1 / N1\n",
    "new_p1"
   ]
  },
  {
   "cell_type": "code",
   "execution_count": 39,
   "metadata": {},
   "outputs": [
    {
     "data": {
      "text/plain": [
       "0.8097660559740163"
      ]
     },
     "execution_count": 39,
     "metadata": {},
     "output_type": "execute_result"
    }
   ],
   "source": [
    "new_p2 = 0\n",
    "for i in range(len(x)):\n",
    "    new_p2 += p_c2_x[i] * x[i][0]\n",
    "\n",
    "new_p2 = new_p2 / N2\n",
    "new_p2"
   ]
  },
  {
   "cell_type": "markdown",
   "metadata": {},
   "source": [
    "mean1 and mean2"
   ]
  },
  {
   "cell_type": "code",
   "execution_count": 40,
   "metadata": {},
   "outputs": [
    {
     "data": {
      "text/plain": [
       "array([[-0.08150139],\n",
       "       [ 0.62008727]])"
      ]
     },
     "execution_count": 40,
     "metadata": {},
     "output_type": "execute_result"
    }
   ],
   "source": [
    "new_mean1 = np.array([[0], [0]])\n",
    "for i in range(len(x)):\n",
    "    new_mean1 = np.add(new_mean1, p_c1_x[i] * np.vstack(x[i][1:]))\n",
    "\n",
    "new_mean1 = np.divide(new_mean1, N1)\n",
    "new_mean1"
   ]
  },
  {
   "cell_type": "code",
   "execution_count": 41,
   "metadata": {},
   "outputs": [
    {
     "data": {
      "text/plain": [
       "array([[0.41155303],\n",
       "       [0.10323696]])"
      ]
     },
     "execution_count": 41,
     "metadata": {},
     "output_type": "execute_result"
    }
   ],
   "source": [
    "new_mean2 = np.array([[0], [0]])\n",
    "for i in range(len(x)):\n",
    "    new_mean2 = np.add(new_mean2, p_c2_x[i] * np.vstack(x[i][1:]))\n",
    "\n",
    "new_mean2 = np.divide(new_mean2, N2)\n",
    "new_mean2"
   ]
  },
  {
   "cell_type": "markdown",
   "metadata": {},
   "source": [
    "cov_matrix1 and cov_matrix2"
   ]
  },
  {
   "cell_type": "code",
   "execution_count": 42,
   "metadata": {},
   "outputs": [
    {
     "data": {
      "text/plain": [
       "array([[ 0.12230189, -0.07419944],\n",
       "       [-0.07419944,  0.04888017]])"
      ]
     },
     "execution_count": 42,
     "metadata": {},
     "output_type": "execute_result"
    }
   ],
   "source": [
    "new_covmatrix1 = np.array([[0, 0], [0, 0]])\n",
    "for i in range(len(x)):\n",
    "    new_covmatrix1 = np.add(new_covmatrix1, \n",
    "        np.dot(\n",
    "            p_c1_x[i] * np.subtract(np.vstack(x[i][1:]), new_mean1),\n",
    "            np.transpose(np.subtract(np.vstack(x[i][1:]), new_mean1))\n",
    "        )\n",
    "    )\n",
    "\n",
    "new_covmatrix1 = np.divide(new_covmatrix1, N1)\n",
    "new_covmatrix1"
   ]
  },
  {
   "cell_type": "code",
   "execution_count": 43,
   "metadata": {},
   "outputs": [
    {
     "data": {
      "text/plain": [
       "array([[ 0.04899327, -0.03632106],\n",
       "       [-0.03632106,  0.06211355]])"
      ]
     },
     "execution_count": 43,
     "metadata": {},
     "output_type": "execute_result"
    }
   ],
   "source": [
    "new_covmatrix2 = np.array([[0, 0], [0, 0]])\n",
    "for i in range(len(x)):\n",
    "    new_covmatrix2 = np.add(new_covmatrix2, \n",
    "        np.dot(\n",
    "            p_c2_x[i] * np.subtract(np.vstack(x[i][1:]), new_mean2),\n",
    "            np.transpose(np.subtract(np.vstack(x[i][1:]), new_mean2))\n",
    "        )\n",
    "    )\n",
    "\n",
    "new_covmatrix2 = np.divide(new_covmatrix2, N2)\n",
    "new_covmatrix2"
   ]
  },
  {
   "cell_type": "code",
   "execution_count": 44,
   "metadata": {},
   "outputs": [
    {
     "data": {
      "text/plain": [
       "array([[36.0302774 , 21.06879999],\n",
       "       [21.06879999, 28.41958383]])"
      ]
     },
     "execution_count": 44,
     "metadata": {},
     "output_type": "execute_result"
    }
   ],
   "source": [
    "np.linalg.inv(new_covmatrix2)"
   ]
  },
  {
   "cell_type": "markdown",
   "metadata": {},
   "source": [
    "# Ex2 - X_new = [1, 0.3, 0.7]"
   ]
  },
  {
   "cell_type": "code",
   "execution_count": 45,
   "metadata": {},
   "outputs": [],
   "source": [
    "x_new = [1, 0.3, 0.7]"
   ]
  },
  {
   "cell_type": "code",
   "execution_count": 46,
   "metadata": {},
   "outputs": [
    {
     "data": {
      "text/plain": [
       "0.002377565746898642"
      ]
     },
     "execution_count": 46,
     "metadata": {},
     "output_type": "execute_result"
    }
   ],
   "source": [
    "if x_new[0] == 1:\n",
    "    p = new_p1\n",
    "else:\n",
    "    p = 1-new_p1\n",
    "p_xnew_c1 = p * multivariate_normal.pdf(x_new[1:], mean1, cov_matrix1)\n",
    "\n",
    "p_xnew_c1"
   ]
  },
  {
   "cell_type": "code",
   "execution_count": 47,
   "metadata": {},
   "outputs": [
    {
     "data": {
      "text/plain": [
       "0.001020133295591959"
      ]
     },
     "execution_count": 47,
     "metadata": {},
     "output_type": "execute_result"
    }
   ],
   "source": [
    "p_c1_xnew_prop = new_coef1 * p_xnew_c1\n",
    "p_c1_xnew_prop"
   ]
  },
  {
   "cell_type": "code",
   "execution_count": 48,
   "metadata": {},
   "outputs": [
    {
     "data": {
      "text/plain": [
       "0.05541300469173034"
      ]
     },
     "execution_count": 48,
     "metadata": {},
     "output_type": "execute_result"
    }
   ],
   "source": [
    "if x_new[0] == 1:\n",
    "    p = new_p2\n",
    "else:\n",
    "    p = 1-new_p2\n",
    "p_xnew_c2 = p * multivariate_normal.pdf(x_new[1:], mean2, cov_matrix2)\n",
    "\n",
    "p_xnew_c2"
   ]
  },
  {
   "cell_type": "code",
   "execution_count": 49,
   "metadata": {},
   "outputs": [
    {
     "data": {
      "text/plain": [
       "0.03163715278581986"
      ]
     },
     "execution_count": 49,
     "metadata": {},
     "output_type": "execute_result"
    }
   ],
   "source": [
    "p_c2_xnew_prop = new_coef2 * p_xnew_c2\n",
    "p_c2_xnew_prop"
   ]
  },
  {
   "cell_type": "code",
   "execution_count": 50,
   "metadata": {},
   "outputs": [
    {
     "data": {
      "text/plain": [
       "0.03123754046949443"
      ]
     },
     "execution_count": 50,
     "metadata": {},
     "output_type": "execute_result"
    }
   ],
   "source": [
    "p_c1_xnew = p_c1_xnew_prop / np.add(p_c1_xnew_prop, p_c2_xnew_prop)\n",
    "p_c1_xnew"
   ]
  },
  {
   "cell_type": "code",
   "execution_count": 51,
   "metadata": {},
   "outputs": [
    {
     "data": {
      "text/plain": [
       "0.9687624595305055"
      ]
     },
     "execution_count": 51,
     "metadata": {},
     "output_type": "execute_result"
    }
   ],
   "source": [
    "p_c2_xnew = p_c2_xnew_prop / np.add(p_c1_xnew_prop, p_c2_xnew_prop)\n",
    "p_c2_xnew"
   ]
  },
  {
   "cell_type": "markdown",
   "metadata": {},
   "source": [
    "NOTE: If you want to change to the newly computed values and re-run the code above, uncomment and run the block below.\n",
    "\n",
    "To revert the changes, restart the python kernel. "
   ]
  },
  {
   "cell_type": "code",
   "execution_count": 52,
   "metadata": {},
   "outputs": [
    {
     "data": {
      "text/plain": [
       "array([-0.08150139,  0.62008727])"
      ]
     },
     "execution_count": 52,
     "metadata": {},
     "output_type": "execute_result"
    }
   ],
   "source": [
    "coef1 = new_coef1\n",
    "coef2 = new_coef2\n",
    "\n",
    "p1 = new_p1\n",
    "p2 = new_p2\n",
    "\n",
    "mean1 = np.concatenate(np.transpose(new_mean1))\n",
    "mean2 = np.concatenate(np.transpose(new_mean2))\n",
    "\n",
    "cov_matrix1 = new_covmatrix1\n",
    "cov_matrix2 = new_covmatrix2\n",
    "\n",
    "mean1"
   ]
  }
 ],
 "metadata": {
  "kernelspec": {
   "display_name": "Python 3",
   "language": "python",
   "name": "python3"
  },
  "language_info": {
   "codemirror_mode": {
    "name": "ipython",
    "version": 3
   },
   "file_extension": ".py",
   "mimetype": "text/x-python",
   "name": "python",
   "nbconvert_exporter": "python",
   "pygments_lexer": "ipython3",
   "version": "3.11.5"
  }
 },
 "nbformat": 4,
 "nbformat_minor": 2
}
