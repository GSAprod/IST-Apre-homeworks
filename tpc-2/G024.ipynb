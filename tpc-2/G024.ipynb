{
 "cells": [
  {
   "cell_type": "markdown",
   "metadata": {},
   "source": [
    "# Homework 2 (Part II)\n",
    "\n",
    "Aprendizagem 2023/2024 - LEIC @ IST \n",
    "\n",
    "Group #24\n",
    "- Daniel Nunes (Nº 103095)\n",
    "- Gonçalo Alves (Nº 103540)"
   ]
  },
  {
   "cell_type": "markdown",
   "metadata": {},
   "source": [
    "## Data importing and preparation"
   ]
  },
  {
   "cell_type": "code",
   "execution_count": 1,
   "metadata": {},
   "outputs": [
    {
     "data": {
      "text/html": [
       "<div>\n",
       "<style scoped>\n",
       "    .dataframe tbody tr th:only-of-type {\n",
       "        vertical-align: middle;\n",
       "    }\n",
       "\n",
       "    .dataframe tbody tr th {\n",
       "        vertical-align: top;\n",
       "    }\n",
       "\n",
       "    .dataframe thead th {\n",
       "        text-align: right;\n",
       "    }\n",
       "</style>\n",
       "<table border=\"1\" class=\"dataframe\">\n",
       "  <thead>\n",
       "    <tr style=\"text-align: right;\">\n",
       "      <th></th>\n",
       "      <th>pelvic_incidence</th>\n",
       "      <th>pelvic_tilt</th>\n",
       "      <th>lumbar_lordosis_angle</th>\n",
       "      <th>sacral_slope</th>\n",
       "      <th>pelvic_radius</th>\n",
       "      <th>degree_spondylolisthesis</th>\n",
       "      <th>class</th>\n",
       "    </tr>\n",
       "  </thead>\n",
       "  <tbody>\n",
       "    <tr>\n",
       "      <th>0</th>\n",
       "      <td>63.027817</td>\n",
       "      <td>22.552586</td>\n",
       "      <td>39.609117</td>\n",
       "      <td>40.475232</td>\n",
       "      <td>98.672917</td>\n",
       "      <td>-0.254400</td>\n",
       "      <td>Hernia</td>\n",
       "    </tr>\n",
       "    <tr>\n",
       "      <th>1</th>\n",
       "      <td>39.056951</td>\n",
       "      <td>10.060991</td>\n",
       "      <td>25.015378</td>\n",
       "      <td>28.995960</td>\n",
       "      <td>114.405425</td>\n",
       "      <td>4.564259</td>\n",
       "      <td>Hernia</td>\n",
       "    </tr>\n",
       "    <tr>\n",
       "      <th>2</th>\n",
       "      <td>68.832021</td>\n",
       "      <td>22.218482</td>\n",
       "      <td>50.092194</td>\n",
       "      <td>46.613539</td>\n",
       "      <td>105.985135</td>\n",
       "      <td>-3.530317</td>\n",
       "      <td>Hernia</td>\n",
       "    </tr>\n",
       "    <tr>\n",
       "      <th>3</th>\n",
       "      <td>69.297008</td>\n",
       "      <td>24.652878</td>\n",
       "      <td>44.311238</td>\n",
       "      <td>44.644130</td>\n",
       "      <td>101.868495</td>\n",
       "      <td>11.211523</td>\n",
       "      <td>Hernia</td>\n",
       "    </tr>\n",
       "    <tr>\n",
       "      <th>4</th>\n",
       "      <td>49.712859</td>\n",
       "      <td>9.652075</td>\n",
       "      <td>28.317406</td>\n",
       "      <td>40.060784</td>\n",
       "      <td>108.168725</td>\n",
       "      <td>7.918501</td>\n",
       "      <td>Hernia</td>\n",
       "    </tr>\n",
       "  </tbody>\n",
       "</table>\n",
       "</div>"
      ],
      "text/plain": [
       "   pelvic_incidence  pelvic_tilt  lumbar_lordosis_angle  sacral_slope  \\\n",
       "0         63.027817    22.552586              39.609117     40.475232   \n",
       "1         39.056951    10.060991              25.015378     28.995960   \n",
       "2         68.832021    22.218482              50.092194     46.613539   \n",
       "3         69.297008    24.652878              44.311238     44.644130   \n",
       "4         49.712859     9.652075              28.317406     40.060784   \n",
       "\n",
       "   pelvic_radius  degree_spondylolisthesis   class  \n",
       "0      98.672917                 -0.254400  Hernia  \n",
       "1     114.405425                  4.564259  Hernia  \n",
       "2     105.985135                 -3.530317  Hernia  \n",
       "3     101.868495                 11.211523  Hernia  \n",
       "4     108.168725                  7.918501  Hernia  "
      ]
     },
     "execution_count": 1,
     "metadata": {},
     "output_type": "execute_result"
    }
   ],
   "source": [
    "import pandas as pd, numpy as np\n",
    "from scipy.io.arff import loadarff\n",
    "\n",
    "data = loadarff('column_diagnosis.arff')\n",
    "df = pd.DataFrame(data[0])\n",
    "df['class'] = df['class'].str.decode('utf-8')\n",
    "\n",
    "df.head()"
   ]
  },
  {
   "cell_type": "code",
   "execution_count": 2,
   "metadata": {},
   "outputs": [],
   "source": [
    "X = df.drop('class', axis=1);\n",
    "Y = df['class'];"
   ]
  },
  {
   "cell_type": "markdown",
   "metadata": {},
   "source": [
    "Using sklearn, apply a 10-fold stratified cross-validation with shuffling (`random_state=0`) for the \n",
    "assessment of predictive models along this section. "
   ]
  },
  {
   "cell_type": "markdown",
   "metadata": {},
   "source": [
    "## Exercise 1\n",
    "\n",
    "Compare the performance of kNN with k=5 and naïve Bayes with Gaussian assumption \n",
    "(consider all remaining parameters for each classifier as sklearn’s default): "
   ]
  },
  {
   "cell_type": "markdown",
   "metadata": {},
   "source": [
    "**a.** Plot two boxplots with the fold accuracies for each classifier."
   ]
  },
  {
   "cell_type": "code",
   "execution_count": 3,
   "metadata": {},
   "outputs": [],
   "source": [
    "import numpy as np\n",
    "from sklearn.model_selection import StratifiedKFold\n",
    "from sklearn.neighbors import KNeighborsClassifier\n",
    "from sklearn.naive_bayes import GaussianNB\n",
    "from sklearn.metrics import accuracy_score\n",
    "\n",
    "knn_accuracy = []\n",
    "nb_accuracy = []\n",
    "\n",
    "skf = StratifiedKFold(n_splits=10, shuffle=True, random_state=0)\n",
    "\n",
    "X_array = np.array(X)\n",
    "y_array = np.array(Y)\n",
    "\n",
    "for train_index, test_index in skf.split(X_array, y_array):\n",
    "    X_train, X_test = X_array[train_index], X_array[test_index]\n",
    "    Y_train, Y_test = y_array[train_index], y_array[test_index]\n",
    "\n",
    "    # Treine e ajuste o classificador kNN\n",
    "    knn = KNeighborsClassifier(n_neighbors=5)  # k=5\n",
    "    knn.fit(X_train, Y_train)\n",
    "    knn_pred = knn.predict(X_test)\n",
    "    knn_acc = accuracy_score(Y_test, knn_pred)\n",
    "    knn_accuracy.append(knn_acc)\n",
    "\n",
    "    # Treine e ajuste o classificador Naïve Bayes Gaussiano\n",
    "    nb = GaussianNB()\n",
    "    nb.fit(X_train, Y_train)\n",
    "    nb_pred = nb.predict(X_test)\n",
    "    nb_acc = accuracy_score(Y_test, nb_pred)\n",
    "    nb_accuracy.append(nb_acc)"
   ]
  },
  {
   "cell_type": "code",
   "execution_count": 4,
   "metadata": {},
   "outputs": [
    {
     "data": {
      "image/png": "[encoded data removed]",
      "text/plain": [
       "<Figure size 640x480 with 1 Axes>"
      ]
     },
     "metadata": {},
     "output_type": "display_data"
    }
   ],
   "source": [
    "import matplotlib.pyplot as plt\n",
    "\n",
    "plt.boxplot([knn_accuracy, nb_accuracy], labels=['kNN (k = 5)', 'Naïve Bayes with Gaussian'], widths=(0.3, 0.3))\n",
    "plt.xlabel('Classifier models')\n",
    "plt.ylabel('Precision (%)')\n",
    "plt.title('Comparison of performances of kNN and Naïve Bayes models')\n",
    "plt.show()"
   ]
  },
  {
   "cell_type": "markdown",
   "metadata": {},
   "source": [
    "**b.** Using scipy, test the hypothesis “𝑘NN is statistically superior to naïve Bayes regarding \n",
    "accuracy”, asserting whether is true. "
   ]
  },
  {
   "cell_type": "code",
   "execution_count": 5,
   "metadata": {},
   "outputs": [
    {
     "name": "stdout",
     "output_type": "stream",
     "text": [
      "P-Value: 0.38085618124128184\n"
     ]
    }
   ],
   "source": [
    "from scipy import stats\n",
    "\n",
    "p_value = stats.ttest_rel(knn_accuracy, nb_accuracy).pvalue\n",
    "print(f\"P-Value: {p_value}\")"
   ]
  },
  {
   "cell_type": "markdown",
   "metadata": {},
   "source": [
    "**Our answer**\n",
    "\n",
    "Since the P-Value generated by the t_test function is approximately equal to 0.38, then we cannot conclude if kNN is more accurate than the Naïve Bayes approach, since only a P-Value lower than 0.05 would indicate a discrepancy on the accuracies returned by both classifiers."
   ]
  },
  {
   "cell_type": "markdown",
   "metadata": {},
   "source": [
    "## Exercise 2\n",
    "\n",
    "Consider two kNN predictors with k=1 and k=5 (uniform weights, Euclidean distance, \n",
    "all remaining parameters as default). Plot the differences between the two cumulative confusion \n",
    "matrices of the predictors. Comment."
   ]
  },
  {
   "cell_type": "code",
   "execution_count": 6,
   "metadata": {},
   "outputs": [],
   "source": [
    "from sklearn.metrics import confusion_matrix\n",
    "\n",
    "kNN_1_confusion_matrices = []\n",
    "kNN_5_confusion_matrices = []\n",
    "\n",
    "skf = StratifiedKFold(n_splits=10, shuffle=True, random_state=0)\n",
    "\n",
    "X_array = np.array(X)\n",
    "y_array = np.array(Y)\n",
    "\n",
    "for train_index, test_index in skf.split(X_array, y_array):\n",
    "    X_train, X_test = X_array[train_index], X_array[test_index]\n",
    "    Y_train, Y_test = y_array[train_index], y_array[test_index]\n",
    "\n",
    "    # k = 1\n",
    "    kNN_1 = KNeighborsClassifier(n_neighbors=1)\n",
    "    knn1_predictor = kNN_1.fit(X_train, Y_train)\n",
    "    kNN_1_predictions = kNN_1.predict(X_test)\n",
    "    kNN_1_confusion_matrix = confusion_matrix(Y_test, kNN_1_predictions)\n",
    "    kNN_1_confusion_matrices.append(kNN_1_confusion_matrix)\n",
    "\n",
    "    # k = 5\n",
    "    kNN_5 = KNeighborsClassifier(n_neighbors=5)\n",
    "    knn5_predictor = kNN_5.fit(X_train, Y_train)\n",
    "    kNN_5_predictions = kNN_5.predict(X_test)\n",
    "    kNN_5_confusion_matrix = confusion_matrix(Y_test, kNN_5_predictions)\n",
    "    kNN_5_confusion_matrices.append(kNN_5_confusion_matrix)\n",
    "\n",
    "kNN_1_cumulative_confusion = sum(kNN_1_confusion_matrices)\n",
    "kNN_5_cumulative_confusion = sum(kNN_5_confusion_matrices)\n",
    "\n",
    "kNN_confusion_difference = kNN_1_cumulative_confusion - kNN_5_cumulative_confusion"
   ]
  },
  {
   "cell_type": "code",
   "execution_count": 7,
   "metadata": {},
   "outputs": [
    {
     "data": {
      "image/png": "[encoded data removed]",
      "text/plain": [
       "<Figure size 640x480 with 2 Axes>"
      ]
     },
     "metadata": {},
     "output_type": "display_data"
    }
   ],
   "source": [
    "from sklearn.metrics import ConfusionMatrixDisplay\n",
    "\n",
    "matrix_display = ConfusionMatrixDisplay(confusion_matrix=kNN_confusion_difference, display_labels=knn1_predictor.classes_)\n",
    "matrix_display.plot(cmap=plt.cm.Blues)\n",
    "plt.title(\"Difference between kNN predictions (k=1 - k=5)\")\n",
    "plt.show()"
   ]
  },
  {
   "cell_type": "markdown",
   "metadata": {},
   "source": [
    "**Our answer**\n",
    "\n",
    "Given the result above, we can observe that the model with k=5 performs better in correctly classifying new items as Hernia and Spondylolisthesis, while the kNN model with k=1 performs better in classifying it as Normal. Because of this, the first model is probably less successful than the second at correctly identifying the various instances of each class.\n",
    "\n",
    "Furthermore, the second model seems to have less false positives and, more importantly, less false negatives, which can be a more critical factor for diagnosing patients according to the properties used in the \"column_diagnosis\" dataset.\n",
    "\n",
    "Therefore, by analysing the results of this confusion matrix, we can conclude that a bigger value of k in a kNN predictor can lead to a better impact in the model's performance."
   ]
  },
  {
   "cell_type": "markdown",
   "metadata": {},
   "source": [
    "## Exercise 3\n",
    "\n",
    "Considering the unique properties of `column_diagnosis`, identify three possible difficulties \n",
    "of naïve Bayes when learning from the given dataset."
   ]
  },
  {
   "cell_type": "markdown",
   "metadata": {},
   "source": [
    "**Our answer**\n",
    "\n",
    "We can observe three possible problems of using a naïve Bayes classifier for learning the `column_diagnosis` dataset:\n",
    "\n",
    "1. Almost all inputs of this dataset are continuous variables, which means that, when using a Bayesian approach for creating a model from this data, it automatically assumes that each continuous variable follows a certain distribution (tipically a Gaussian distribution). However, if some of the variables of this dataset follow other distributions, using a naïve Bayes model might create some errors.\n",
    "\n",
    "2. Naïve Bayes assumes that features are conditionally independent given the class label. This is done in order to try to achieve better optimization results while not sacrificing accuracy. However, we cannot fully confirm that the variables are completely independent from one another. If this is not the case, then the accuracy of the Bayesian model can decrease substantially.\n",
    "\n",
    "3. After analysing this dataset, we concluded that there are 60 data points for the class \"Hernia\", 100 for the class \"Normal\" and 150 for a diagnosis of \"Spondylolisthesis\". Therefore, the classes in this dataset are imbalanced. This can introduce bias on the naïve model, meaning that for each new set of properties, the model can have a bigger chance of classifying it as one class, as it was trained with more data for that specific class."
   ]
  }
 ],
 "metadata": {
  "kernelspec": {
   "display_name": "Python 3",
   "language": "python",
   "name": "python3"
  },
  "language_info": {
   "codemirror_mode": {
    "name": "ipython",
    "version": 3
   },
   "file_extension": ".py",
   "mimetype": "text/x-python",
   "name": "python",
   "nbconvert_exporter": "python",
   "pygments_lexer": "ipython3",
   "version": "3.11.5"
  },
  "orig_nbformat": 4
 },
 "nbformat": 4,
 "nbformat_minor": 2
}
